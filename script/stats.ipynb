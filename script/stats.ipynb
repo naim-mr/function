{
 "cells": [
  {
   "cell_type": "code",
   "execution_count": 2,
   "id": "64d3c310-4beb-4801-acb0-32191ba1bcd2",
   "metadata": {},
   "outputs": [
    {
     "data": {
      "text/plain": [
       "options                                                nb_vulns\n",
       "-domain polyhedra -ordinals 3  -refine -vulnerability  0            0.122156\n",
       "                                                       1            0.153613\n",
       "                                                       2            0.378750\n",
       "                                                       3            0.761667\n",
       "-domain polyhedra -ordinals 3 -cda 3  -vulnerability   0            0.165378\n",
       "                                                       1            5.590319\n",
       "                                                       2           12.112407\n",
       "                                                       3           25.765000\n",
       "Name: time, dtype: float64"
      ]
     },
     "execution_count": 2,
     "metadata": {},
     "output_type": "execute_result"
    }
   ],
   "source": [
    "import pandas as pd\n",
    "# If you want to do the statistics with your own run of the benchmarks\n",
    "df = pd.read_csv('../results/stats.csv')\n",
    "# otherwise do this \n",
    "# df = pd.read_csv('../computed/stats.csv')\n",
    "df = df.fillna(0)\n",
    "nv = df.groupby('filename').max('nb_vulns')\n",
    "# Here we compute we group by options and nb of vulsn and we print the mean times taken by the analysis\n",
    "df.groupby(['options','nb_vulns']).mean('time')['time']"
   ]
  },
  {
   "cell_type": "code",
   "execution_count": 3,
   "id": "a1ea7e21-12bc-4f7f-9aa0-ebb058ec7013",
   "metadata": {},
   "outputs": [],
   "source": [
    "import statistics\n",
    "# Split the df by options, you have to add some here if you add them in runtest.sh\n",
    "# without cda\n",
    "vf1 = df[df.options ==\"-domain polyhedra -ordinals 3  -refine -vulnerability\"]\n",
    "# with cda\n",
    "vf2 = df[df.options == \"-domain polyhedra -ordinals 3 -cda 3  -vulnerability\"] "
   ]
  },
  {
   "cell_type": "code",
   "execution_count": 4,
   "id": "8a095111-e1be-4b0a-b991-3b4e4114415c",
   "metadata": {},
   "outputs": [],
   "source": [
    "def stats_min_mean(vf):\n",
    "    minf = list(vf['mininfer'])\n",
    "    total = list(vf['total'])\n",
    "    perc = [(minf[i], total[i]) for i in range(0, len(minf))]\n",
    "    # Create list of percentage of potentially vulnerable variable for each test\n",
    "    perc = [ (x/y)*100 if y != 0 else 0  for (x,y) in perc ]\n",
    "    median = statistics.median(perc)\n",
    "    mean = statistics.mean(perc)\n",
    "    print(\"Mean of minimum infer:\")\n",
    "    print(mean)"
   ]
  },
  {
   "cell_type": "code",
   "execution_count": 5,
   "id": "07df30f8-ef57-427c-9e72-768ac740c267",
   "metadata": {},
   "outputs": [
    {
     "name": "stdout",
     "output_type": "stream",
     "text": [
      "Mean of minimum infer:\n",
      "32.518674136321195\n",
      "Mean of minimum infer:\n",
      "28.597105508870214\n"
     ]
    }
   ],
   "source": [
    "stats_min_mean(vf1[vf1.filename.str.startswith('ctl')])\n",
    "stats_min_mean(vf2[vf2.filename.str.startswith('ctl')])"
   ]
  },
  {
   "cell_type": "code",
   "execution_count": 6,
   "id": "d2ebde5f-31aa-42d5-a80e-f133ea74ab8a",
   "metadata": {},
   "outputs": [
    {
     "name": "stdout",
     "output_type": "stream",
     "text": [
      "Mean of minimum infer:\n",
      "17.21111111111111\n",
      "Mean of minimum infer:\n",
      "16.24074074074074\n"
     ]
    }
   ],
   "source": [
    "stats_min_mean(vf1[vf1.filename.str.startswith('trm')])\n",
    "stats_min_mean(vf2[vf2.filename.str.startswith('trm')])"
   ]
  },
  {
   "cell_type": "code",
   "execution_count": 7,
   "id": "0d0a677b-c6e1-4b7b-9d97-8c685520696c",
   "metadata": {},
   "outputs": [
    {
     "name": "stdout",
     "output_type": "stream",
     "text": [
      "Mean of minimum infer:\n",
      "26.162790697674417\n",
      "Mean of minimum infer:\n",
      "22.51937984496124\n"
     ]
    }
   ],
   "source": [
    "stats_min_mean(vf1[vf1.filename.str.startswith('rs')])\n",
    "stats_min_mean(vf2[vf2.filename.str.startswith('rs')])"
   ]
  },
  {
   "cell_type": "code",
   "execution_count": 8,
   "id": "4cab8a56-c287-4c98-bc0a-026d2ecfbcf0",
   "metadata": {},
   "outputs": [
    {
     "data": {
      "text/plain": [
       "options                                                nb_vulns\n",
       "-domain polyhedra -ordinals 3  -refine -vulnerability  0            16.491\n",
       "                                                       1            23.042\n",
       "                                                       2            10.605\n",
       "                                                       3             4.570\n",
       "-domain polyhedra -ordinals 3 -cda 3  -vulnerability   0            23.649\n",
       "                                                       1           805.006\n",
       "                                                       2           327.035\n",
       "                                                       3           128.825\n",
       "Name: time, dtype: float64"
      ]
     },
     "execution_count": 8,
     "metadata": {},
     "output_type": "execute_result"
    }
   ],
   "source": [
    "# Here we compute we group by options and nb of vulsn and we print the total time taken by the analysis\n",
    "df.groupby(['options','nb_vulns']).sum('time')['time']\n",
    "\n"
   ]
  },
  {
   "cell_type": "code",
   "execution_count": 9,
   "id": "63a29217-5569-49e6-8e9d-cf0875340f26",
   "metadata": {},
   "outputs": [
    {
     "data": {
      "text/plain": [
       "options                                                nb_vulns\n",
       "-domain polyhedra -ordinals 3  -refine -vulnerability  0            0.122156\n",
       "                                                       1            0.153613\n",
       "                                                       2            0.378750\n",
       "                                                       3            0.761667\n",
       "-domain polyhedra -ordinals 3 -cda 3  -vulnerability   0            0.165378\n",
       "                                                       1            5.590319\n",
       "                                                       2           12.112407\n",
       "                                                       3           25.765000\n",
       "Name: time, dtype: float64"
      ]
     },
     "execution_count": 9,
     "metadata": {},
     "output_type": "execute_result"
    }
   ],
   "source": [
    "# Here we compute we group by options and nb of vulsn and we print the average time taken by the analysis\n",
    "df.groupby(['options','nb_vulns']).mean('time')['time']\n"
   ]
  },
  {
   "cell_type": "code",
   "execution_count": 10,
   "id": "d0bdc0b8-f9ff-416d-87f4-4284f0b7e176",
   "metadata": {},
   "outputs": [
    {
     "data": {
      "text/plain": [
       "options                                                nb_vulns\n",
       "-domain polyhedra -ordinals 3  -refine -vulnerability  0           135\n",
       "                                                       1           150\n",
       "                                                       2            28\n",
       "                                                       3             6\n",
       "-domain polyhedra -ordinals 3 -cda 3  -vulnerability   0           143\n",
       "                                                       1           144\n",
       "                                                       2            27\n",
       "                                                       3             5\n",
       "Name: filename, dtype: int64"
      ]
     },
     "execution_count": 10,
     "metadata": {},
     "output_type": "execute_result"
    }
   ],
   "source": [
    "# Here we compute we group by options and nb of vulsn and we print the number of programs for each number of vulns\n",
    "df.groupby(['options','nb_vulns']).count()['filename']"
   ]
  },
  {
   "cell_type": "code",
   "execution_count": 11,
   "id": "15b39d3b-e2be-4b53-848a-a774b884a9b7",
   "metadata": {},
   "outputs": [
    {
     "data": {
      "text/plain": [
       "options                                                nb_vulns\n",
       "-domain polyhedra -ordinals 3  -refine -vulnerability  0           63.377778\n",
       "                                                       1           22.520000\n",
       "                                                       2           25.285714\n",
       "                                                       3           25.666667\n",
       "-domain polyhedra -ordinals 3 -cda 3  -vulnerability   0           61.286713\n",
       "                                                       1           22.354167\n",
       "                                                       2           25.222222\n",
       "                                                       3           26.400000\n",
       "Name: loc, dtype: float64"
      ]
     },
     "execution_count": 11,
     "metadata": {},
     "output_type": "execute_result"
    }
   ],
   "source": [
    "# Here we compute we group by options and nb of vulsn and we print the number of loc for each number of vulns\n",
    "df.groupby(['options','nb_vulns']).mean('loc')['loc']"
   ]
  },
  {
   "cell_type": "code",
   "execution_count": 15,
   "id": "9a49fa34-f2c1-406d-8e6e-2f051a349722",
   "metadata": {},
   "outputs": [
    {
     "data": {
      "text/html": [
       "<div>\n",
       "<style scoped>\n",
       "    .dataframe tbody tr th:only-of-type {\n",
       "        vertical-align: middle;\n",
       "    }\n",
       "\n",
       "    .dataframe tbody tr th {\n",
       "        vertical-align: top;\n",
       "    }\n",
       "\n",
       "    .dataframe thead th {\n",
       "        text-align: right;\n",
       "    }\n",
       "</style>\n",
       "<table border=\"1\" class=\"dataframe\">\n",
       "  <thead>\n",
       "    <tr style=\"text-align: right;\">\n",
       "      <th></th>\n",
       "      <th></th>\n",
       "      <th></th>\n",
       "      <th>filename</th>\n",
       "      <th>property</th>\n",
       "      <th>result</th>\n",
       "      <th>loc</th>\n",
       "      <th>time</th>\n",
       "      <th>mininfer</th>\n",
       "      <th>maxinfer</th>\n",
       "      <th>total</th>\n",
       "    </tr>\n",
       "    <tr>\n",
       "      <th>options</th>\n",
       "      <th>nb_vulns</th>\n",
       "      <th>allpot</th>\n",
       "      <th></th>\n",
       "      <th></th>\n",
       "      <th></th>\n",
       "      <th></th>\n",
       "      <th></th>\n",
       "      <th></th>\n",
       "      <th></th>\n",
       "      <th></th>\n",
       "    </tr>\n",
       "  </thead>\n",
       "  <tbody>\n",
       "    <tr>\n",
       "      <th rowspan=\"5\" valign=\"top\">-domain polyhedra -ordinals 3  -refine -vulnerability</th>\n",
       "      <th>0</th>\n",
       "      <th>False</th>\n",
       "      <td>135</td>\n",
       "      <td>135</td>\n",
       "      <td>135</td>\n",
       "      <td>135</td>\n",
       "      <td>135</td>\n",
       "      <td>135</td>\n",
       "      <td>135</td>\n",
       "      <td>135</td>\n",
       "    </tr>\n",
       "    <tr>\n",
       "      <th rowspan=\"2\" valign=\"top\">1</th>\n",
       "      <th>False</th>\n",
       "      <td>135</td>\n",
       "      <td>135</td>\n",
       "      <td>135</td>\n",
       "      <td>135</td>\n",
       "      <td>135</td>\n",
       "      <td>135</td>\n",
       "      <td>135</td>\n",
       "      <td>135</td>\n",
       "    </tr>\n",
       "    <tr>\n",
       "      <th>True</th>\n",
       "      <td>15</td>\n",
       "      <td>15</td>\n",
       "      <td>15</td>\n",
       "      <td>15</td>\n",
       "      <td>15</td>\n",
       "      <td>15</td>\n",
       "      <td>15</td>\n",
       "      <td>15</td>\n",
       "    </tr>\n",
       "    <tr>\n",
       "      <th>2</th>\n",
       "      <th>False</th>\n",
       "      <td>28</td>\n",
       "      <td>28</td>\n",
       "      <td>28</td>\n",
       "      <td>28</td>\n",
       "      <td>28</td>\n",
       "      <td>28</td>\n",
       "      <td>28</td>\n",
       "      <td>28</td>\n",
       "    </tr>\n",
       "    <tr>\n",
       "      <th>3</th>\n",
       "      <th>False</th>\n",
       "      <td>6</td>\n",
       "      <td>6</td>\n",
       "      <td>6</td>\n",
       "      <td>6</td>\n",
       "      <td>6</td>\n",
       "      <td>6</td>\n",
       "      <td>6</td>\n",
       "      <td>6</td>\n",
       "    </tr>\n",
       "    <tr>\n",
       "      <th rowspan=\"5\" valign=\"top\">-domain polyhedra -ordinals 3 -cda 3  -vulnerability</th>\n",
       "      <th>0</th>\n",
       "      <th>False</th>\n",
       "      <td>143</td>\n",
       "      <td>143</td>\n",
       "      <td>143</td>\n",
       "      <td>143</td>\n",
       "      <td>143</td>\n",
       "      <td>143</td>\n",
       "      <td>143</td>\n",
       "      <td>143</td>\n",
       "    </tr>\n",
       "    <tr>\n",
       "      <th rowspan=\"2\" valign=\"top\">1</th>\n",
       "      <th>False</th>\n",
       "      <td>130</td>\n",
       "      <td>130</td>\n",
       "      <td>130</td>\n",
       "      <td>130</td>\n",
       "      <td>130</td>\n",
       "      <td>130</td>\n",
       "      <td>130</td>\n",
       "      <td>130</td>\n",
       "    </tr>\n",
       "    <tr>\n",
       "      <th>True</th>\n",
       "      <td>14</td>\n",
       "      <td>14</td>\n",
       "      <td>14</td>\n",
       "      <td>14</td>\n",
       "      <td>14</td>\n",
       "      <td>14</td>\n",
       "      <td>14</td>\n",
       "      <td>14</td>\n",
       "    </tr>\n",
       "    <tr>\n",
       "      <th>2</th>\n",
       "      <th>False</th>\n",
       "      <td>27</td>\n",
       "      <td>27</td>\n",
       "      <td>27</td>\n",
       "      <td>27</td>\n",
       "      <td>27</td>\n",
       "      <td>27</td>\n",
       "      <td>27</td>\n",
       "      <td>27</td>\n",
       "    </tr>\n",
       "    <tr>\n",
       "      <th>3</th>\n",
       "      <th>False</th>\n",
       "      <td>5</td>\n",
       "      <td>5</td>\n",
       "      <td>5</td>\n",
       "      <td>5</td>\n",
       "      <td>5</td>\n",
       "      <td>5</td>\n",
       "      <td>5</td>\n",
       "      <td>5</td>\n",
       "    </tr>\n",
       "  </tbody>\n",
       "</table>\n",
       "</div>"
      ],
      "text/plain": [
       "                                                                    filename  \\\n",
       "options                                            nb_vulns allpot             \n",
       "-domain polyhedra -ordinals 3  -refine -vulnera... 0        False        135   \n",
       "                                                   1        False        135   \n",
       "                                                            True          15   \n",
       "                                                   2        False         28   \n",
       "                                                   3        False          6   \n",
       "-domain polyhedra -ordinals 3 -cda 3  -vulnerab... 0        False        143   \n",
       "                                                   1        False        130   \n",
       "                                                            True          14   \n",
       "                                                   2        False         27   \n",
       "                                                   3        False          5   \n",
       "\n",
       "                                                                    property  \\\n",
       "options                                            nb_vulns allpot             \n",
       "-domain polyhedra -ordinals 3  -refine -vulnera... 0        False        135   \n",
       "                                                   1        False        135   \n",
       "                                                            True          15   \n",
       "                                                   2        False         28   \n",
       "                                                   3        False          6   \n",
       "-domain polyhedra -ordinals 3 -cda 3  -vulnerab... 0        False        143   \n",
       "                                                   1        False        130   \n",
       "                                                            True          14   \n",
       "                                                   2        False         27   \n",
       "                                                   3        False          5   \n",
       "\n",
       "                                                                    result  \\\n",
       "options                                            nb_vulns allpot           \n",
       "-domain polyhedra -ordinals 3  -refine -vulnera... 0        False      135   \n",
       "                                                   1        False      135   \n",
       "                                                            True        15   \n",
       "                                                   2        False       28   \n",
       "                                                   3        False        6   \n",
       "-domain polyhedra -ordinals 3 -cda 3  -vulnerab... 0        False      143   \n",
       "                                                   1        False      130   \n",
       "                                                            True        14   \n",
       "                                                   2        False       27   \n",
       "                                                   3        False        5   \n",
       "\n",
       "                                                                    loc  time  \\\n",
       "options                                            nb_vulns allpot              \n",
       "-domain polyhedra -ordinals 3  -refine -vulnera... 0        False   135   135   \n",
       "                                                   1        False   135   135   \n",
       "                                                            True     15    15   \n",
       "                                                   2        False    28    28   \n",
       "                                                   3        False     6     6   \n",
       "-domain polyhedra -ordinals 3 -cda 3  -vulnerab... 0        False   143   143   \n",
       "                                                   1        False   130   130   \n",
       "                                                            True     14    14   \n",
       "                                                   2        False    27    27   \n",
       "                                                   3        False     5     5   \n",
       "\n",
       "                                                                    mininfer  \\\n",
       "options                                            nb_vulns allpot             \n",
       "-domain polyhedra -ordinals 3  -refine -vulnera... 0        False        135   \n",
       "                                                   1        False        135   \n",
       "                                                            True          15   \n",
       "                                                   2        False         28   \n",
       "                                                   3        False          6   \n",
       "-domain polyhedra -ordinals 3 -cda 3  -vulnerab... 0        False        143   \n",
       "                                                   1        False        130   \n",
       "                                                            True          14   \n",
       "                                                   2        False         27   \n",
       "                                                   3        False          5   \n",
       "\n",
       "                                                                    maxinfer  \\\n",
       "options                                            nb_vulns allpot             \n",
       "-domain polyhedra -ordinals 3  -refine -vulnera... 0        False        135   \n",
       "                                                   1        False        135   \n",
       "                                                            True          15   \n",
       "                                                   2        False         28   \n",
       "                                                   3        False          6   \n",
       "-domain polyhedra -ordinals 3 -cda 3  -vulnerab... 0        False        143   \n",
       "                                                   1        False        130   \n",
       "                                                            True          14   \n",
       "                                                   2        False         27   \n",
       "                                                   3        False          5   \n",
       "\n",
       "                                                                    total  \n",
       "options                                            nb_vulns allpot         \n",
       "-domain polyhedra -ordinals 3  -refine -vulnera... 0        False     135  \n",
       "                                                   1        False     135  \n",
       "                                                            True       15  \n",
       "                                                   2        False      28  \n",
       "                                                   3        False       6  \n",
       "-domain polyhedra -ordinals 3 -cda 3  -vulnerab... 0        False     143  \n",
       "                                                   1        False     130  \n",
       "                                                            True       14  \n",
       "                                                   2        False      27  \n",
       "                                                   3        False       5  "
      ]
     },
     "execution_count": 15,
     "metadata": {},
     "output_type": "execute_result"
    }
   ],
   "source": [
    "# Count the number of tests where the function is undefined and all variables are (potentially) vulnerable and we don't have sufficient condition\n",
    "df.groupby(['options','nb_vulns','allpot']).count()"
   ]
  },
  {
   "cell_type": "code",
   "execution_count": null,
   "id": "4a2ca274-9093-4dcb-bcbc-ec9c923ee47f",
   "metadata": {},
   "outputs": [],
   "source": []
  }
 ],
 "metadata": {
  "kernelspec": {
   "display_name": "Python 3 (ipykernel)",
   "language": "python",
   "name": "python3"
  },
  "language_info": {
   "codemirror_mode": {
    "name": "ipython",
    "version": 3
   },
   "file_extension": ".py",
   "mimetype": "text/x-python",
   "name": "python",
   "nbconvert_exporter": "python",
   "pygments_lexer": "ipython3",
   "version": "3.10.12"
  }
 },
 "nbformat": 4,
 "nbformat_minor": 5
}
