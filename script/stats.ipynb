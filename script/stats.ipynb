{
 "cells": [
  {
   "cell_type": "code",
   "execution_count": 191,
   "id": "64d3c310-4beb-4801-acb0-32191ba1bcd2",
   "metadata": {},
   "outputs": [
    {
     "data": {
      "text/plain": [
       "options                                                nb_vulns\n",
       "-domain polyhedra -ordinals 3  -refine -vulnerability  0            0.107685\n",
       "                                                       1            0.117961\n",
       "                                                       2            0.330867\n",
       "                                                       3            0.689167\n",
       "-domain polyhedra -ordinals 3 -cda 3  -vulnerability   0            0.154117\n",
       "                                                       1            5.371006\n",
       "                                                       2           14.902655\n",
       "                                                       3           24.823200\n",
       "Name: time, dtype: float64"
      ]
     },
     "execution_count": 191,
     "metadata": {},
     "output_type": "execute_result"
    }
   ],
   "source": [
    "import pandas as pd\n",
    "df = pd.read_csv('stats.csv')\n",
    "df = df.fillna(0)\n",
    "nv = df.groupby('filename').max('nb_vulns')\n",
    "# Here we compute we group by options and nb of vulsn and we print the mean times taken by the analysis\n",
    "df.groupby(['options','nb_vulns']).mean('time')['time']"
   ]
  },
  {
   "cell_type": "code",
   "execution_count": 192,
   "id": "a1ea7e21-12bc-4f7f-9aa0-ebb058ec7013",
   "metadata": {},
   "outputs": [],
   "source": [
    "import statistics\n",
    "# Split the df by options, you have to add some here if you add them in runtest.sh\n",
    "# without cda\n",
    "vf1 = df[df.options ==\"-domain polyhedra -ordinals 3  -refine -vulnerability\"]\n",
    "# with cda\n",
    "vf2 = df[df.options == \"-domain polyhedra -ordinals 3 -cda 3  -vulnerability\"] "
   ]
  },
  {
   "cell_type": "code",
   "execution_count": 193,
   "id": "8a095111-e1be-4b0a-b991-3b4e4114415c",
   "metadata": {},
   "outputs": [],
   "source": [
    "def stats_min_mean(vf):\n",
    "    minf = list(vf['mininfer'])\n",
    "    total = list(vf['total'])\n",
    "    perc = [(minf[i], total[i]) for i in range(0, len(minf))]\n",
    "    # Create list of percentage of potentially vulnerable variable for each test\n",
    "    perc = [ (x/y)*100 if y != 0 else 0  for (x,y) in perc ]\n",
    "    median = statistics.median(perc)\n",
    "    mean = statistics.mean(perc)\n",
    "    print(\"Mean of minimum infer:\")\n",
    "    print(mean)"
   ]
  },
  {
   "cell_type": "code",
   "execution_count": 194,
   "id": "07df30f8-ef57-427c-9e72-768ac740c267",
   "metadata": {},
   "outputs": [
    {
     "name": "stdout",
     "output_type": "stream",
     "text": [
      "Mean of minimum infer:\n",
      "32.518674136321195\n",
      "Mean of minimum infer:\n",
      "28.597105508870214\n"
     ]
    }
   ],
   "source": [
    "stats_min_mean(vf1[vf1.filename.str.startswith('ctl')])\n",
    "stats_min_mean(vf2[vf2.filename.str.startswith('ctl')])"
   ]
  },
  {
   "cell_type": "code",
   "execution_count": 195,
   "id": "d2ebde5f-31aa-42d5-a80e-f133ea74ab8a",
   "metadata": {},
   "outputs": [
    {
     "name": "stdout",
     "output_type": "stream",
     "text": [
      "Mean of minimum infer:\n",
      "17.21111111111111\n",
      "Mean of minimum infer:\n",
      "16.24074074074074\n"
     ]
    }
   ],
   "source": [
    "stats_min_mean(vf1[vf1.filename.str.startswith('trm')])\n",
    "stats_min_mean(vf2[vf2.filename.str.startswith('trm')])"
   ]
  },
  {
   "cell_type": "code",
   "execution_count": 196,
   "id": "0d0a677b-c6e1-4b7b-9d97-8c685520696c",
   "metadata": {},
   "outputs": [
    {
     "name": "stdout",
     "output_type": "stream",
     "text": [
      "Mean of minimum infer:\n",
      "26.162790697674417\n",
      "Mean of minimum infer:\n",
      "22.51937984496124\n"
     ]
    }
   ],
   "source": [
    "stats_min_mean(vf1[vf1.filename.str.startswith('rs')])\n",
    "stats_min_mean(vf2[vf2.filename.str.startswith('rs')])"
   ]
  },
  {
   "cell_type": "code",
   "execution_count": 197,
   "id": "4cab8a56-c287-4c98-bc0a-026d2ecfbcf0",
   "metadata": {},
   "outputs": [
    {
     "data": {
      "text/plain": [
       "options                                                nb_vulns\n",
       "-domain polyhedra -ordinals 3  -refine -vulnerability  0            15.722\n",
       "                                                       1            21.233\n",
       "                                                       2             9.926\n",
       "                                                       3             4.135\n",
       "-domain polyhedra -ordinals 3 -cda 3  -vulnerability   0            23.734\n",
       "                                                       1           934.555\n",
       "                                                       2           432.177\n",
       "                                                       3           124.116\n",
       "Name: time, dtype: float64"
      ]
     },
     "execution_count": 197,
     "metadata": {},
     "output_type": "execute_result"
    }
   ],
   "source": [
    "# Here we compute we group by options and nb of vulsn and we print the total time taken by the analysis\n",
    "df.groupby(['options','nb_vulns']).sum('time')['time']\n",
    "\n"
   ]
  },
  {
   "cell_type": "code",
   "execution_count": 198,
   "id": "63a29217-5569-49e6-8e9d-cf0875340f26",
   "metadata": {},
   "outputs": [
    {
     "data": {
      "text/plain": [
       "options                                                nb_vulns\n",
       "-domain polyhedra -ordinals 3  -refine -vulnerability  0            0.107685\n",
       "                                                       1            0.117961\n",
       "                                                       2            0.330867\n",
       "                                                       3            0.689167\n",
       "-domain polyhedra -ordinals 3 -cda 3  -vulnerability   0            0.154117\n",
       "                                                       1            5.371006\n",
       "                                                       2           14.902655\n",
       "                                                       3           24.823200\n",
       "Name: time, dtype: float64"
      ]
     },
     "execution_count": 198,
     "metadata": {},
     "output_type": "execute_result"
    }
   ],
   "source": [
    "# Here we compute we group by options and nb of vulsn and we print the average time taken by the analysis\n",
    "df.groupby(['options','nb_vulns']).mean('time')['time']\n"
   ]
  },
  {
   "cell_type": "code",
   "execution_count": 199,
   "id": "d0bdc0b8-f9ff-416d-87f4-4284f0b7e176",
   "metadata": {},
   "outputs": [
    {
     "data": {
      "text/plain": [
       "options                                                nb_vulns\n",
       "-domain polyhedra -ordinals 3  -refine -vulnerability  0           146\n",
       "                                                       1           180\n",
       "                                                       2            30\n",
       "                                                       3             6\n",
       "-domain polyhedra -ordinals 3 -cda 3  -vulnerability   0           154\n",
       "                                                       1           174\n",
       "                                                       2            29\n",
       "                                                       3             5\n",
       "Name: filename, dtype: int64"
      ]
     },
     "execution_count": 199,
     "metadata": {},
     "output_type": "execute_result"
    }
   ],
   "source": [
    "# Here we compute we group by options and nb of vulsn and we print the number of programs for each number of vulns\n",
    "df.groupby(['options','nb_vulns']).count()['filename']"
   ]
  },
  {
   "cell_type": "code",
   "execution_count": 200,
   "id": "15b39d3b-e2be-4b53-848a-a774b884a9b7",
   "metadata": {},
   "outputs": [
    {
     "data": {
      "text/plain": [
       "options                                                nb_vulns\n",
       "-domain polyhedra -ordinals 3  -refine -vulnerability  0           79.979452\n",
       "                                                       1           22.427778\n",
       "                                                       2           24.633333\n",
       "                                                       3           25.666667\n",
       "-domain polyhedra -ordinals 3 -cda 3  -vulnerability   0           77.175325\n",
       "                                                       1           22.287356\n",
       "                                                       2           24.551724\n",
       "                                                       3           26.400000\n",
       "Name: loc, dtype: float64"
      ]
     },
     "execution_count": 200,
     "metadata": {},
     "output_type": "execute_result"
    }
   ],
   "source": [
    "# Here we compute we group by options and nb of vulsn and we print the number of loc for each number of vulns\n",
    "df.groupby(['options','nb_vulns']).mean('loc')['loc']"
   ]
  },
  {
   "cell_type": "code",
   "execution_count": null,
   "id": "9a49fa34-f2c1-406d-8e6e-2f051a349722",
   "metadata": {},
   "outputs": [],
   "source": []
  }
 ],
 "metadata": {
  "kernelspec": {
   "display_name": "Python 3 (ipykernel)",
   "language": "python",
   "name": "python3"
  },
  "language_info": {
   "codemirror_mode": {
    "name": "ipython",
    "version": 3
   },
   "file_extension": ".py",
   "mimetype": "text/x-python",
   "name": "python",
   "nbconvert_exporter": "python",
   "pygments_lexer": "ipython3",
   "version": "3.10.12"
  }
 },
 "nbformat": 4,
 "nbformat_minor": 5
}
