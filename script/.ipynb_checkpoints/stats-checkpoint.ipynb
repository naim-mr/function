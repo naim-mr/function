{
 "cells": [
  {
   "cell_type": "code",
   "execution_count": 4,
   "id": "64d3c310-4beb-4801-acb0-32191ba1bcd2",
   "metadata": {},
   "outputs": [
    {
     "data": {
      "text/html": [
       "<div>\n",
       "<style scoped>\n",
       "    .dataframe tbody tr th:only-of-type {\n",
       "        vertical-align: middle;\n",
       "    }\n",
       "\n",
       "    .dataframe tbody tr th {\n",
       "        vertical-align: top;\n",
       "    }\n",
       "\n",
       "    .dataframe thead th {\n",
       "        text-align: right;\n",
       "    }\n",
       "</style>\n",
       "<table border=\"1\" class=\"dataframe\">\n",
       "  <thead>\n",
       "    <tr style=\"text-align: right;\">\n",
       "      <th></th>\n",
       "      <th></th>\n",
       "      <th>result</th>\n",
       "      <th>loc</th>\n",
       "      <th>time</th>\n",
       "      <th>alarms</th>\n",
       "    </tr>\n",
       "    <tr>\n",
       "      <th>group</th>\n",
       "      <th>options</th>\n",
       "      <th></th>\n",
       "      <th></th>\n",
       "      <th></th>\n",
       "      <th></th>\n",
       "    </tr>\n",
       "  </thead>\n",
       "  <tbody>\n",
       "    <tr>\n",
       "      <th rowspan=\"4\" valign=\"top\">EndWatch</th>\n",
       "      <th>-domain boxes -refine</th>\n",
       "      <td>0</td>\n",
       "      <td>2151.0</td>\n",
       "      <td>2.073</td>\n",
       "      <td>85.0</td>\n",
       "    </tr>\n",
       "    <tr>\n",
       "      <th>-domain boxes -refine -resilience</th>\n",
       "      <td>57</td>\n",
       "      <td>2151.0</td>\n",
       "      <td>2.265</td>\n",
       "      <td>28.0</td>\n",
       "    </tr>\n",
       "    <tr>\n",
       "      <th>-domain polyhedra -refine</th>\n",
       "      <td>0</td>\n",
       "      <td>2151.0</td>\n",
       "      <td>69.995</td>\n",
       "      <td>85.0</td>\n",
       "    </tr>\n",
       "    <tr>\n",
       "      <th>-domain polyhedra -refine -resilience</th>\n",
       "      <td>49</td>\n",
       "      <td>2151.0</td>\n",
       "      <td>501.142</td>\n",
       "      <td>20.0</td>\n",
       "    </tr>\n",
       "    <tr>\n",
       "      <th rowspan=\"4\" valign=\"top\">Pulse</th>\n",
       "      <th>-domain boxes -refine</th>\n",
       "      <td>0</td>\n",
       "      <td>724.0</td>\n",
       "      <td>0.574</td>\n",
       "      <td>36.0</td>\n",
       "    </tr>\n",
       "    <tr>\n",
       "      <th>-domain boxes -refine -resilience</th>\n",
       "      <td>20</td>\n",
       "      <td>724.0</td>\n",
       "      <td>0.573</td>\n",
       "      <td>16.0</td>\n",
       "    </tr>\n",
       "    <tr>\n",
       "      <th>-domain polyhedra -refine</th>\n",
       "      <td>0</td>\n",
       "      <td>724.0</td>\n",
       "      <td>1.135</td>\n",
       "      <td>36.0</td>\n",
       "    </tr>\n",
       "    <tr>\n",
       "      <th>-domain polyhedra -refine -resilience</th>\n",
       "      <td>20</td>\n",
       "      <td>724.0</td>\n",
       "      <td>1.720</td>\n",
       "      <td>16.0</td>\n",
       "    </tr>\n",
       "    <tr>\n",
       "      <th rowspan=\"4\" valign=\"top\">SvComp</th>\n",
       "      <th>-domain boxes -refine</th>\n",
       "      <td>0</td>\n",
       "      <td>2791.0</td>\n",
       "      <td>3.555</td>\n",
       "      <td>119.0</td>\n",
       "    </tr>\n",
       "    <tr>\n",
       "      <th>-domain boxes -refine -resilience</th>\n",
       "      <td>61</td>\n",
       "      <td>2791.0</td>\n",
       "      <td>3.680</td>\n",
       "      <td>58.0</td>\n",
       "    </tr>\n",
       "    <tr>\n",
       "      <th>-domain polyhedra -refine</th>\n",
       "      <td>0</td>\n",
       "      <td>2791.0</td>\n",
       "      <td>7.214</td>\n",
       "      <td>119.0</td>\n",
       "    </tr>\n",
       "    <tr>\n",
       "      <th>-domain polyhedra -refine -resilience</th>\n",
       "      <td>76</td>\n",
       "      <td>2791.0</td>\n",
       "      <td>16.921</td>\n",
       "      <td>43.0</td>\n",
       "    </tr>\n",
       "  </tbody>\n",
       "</table>\n",
       "</div>"
      ],
      "text/plain": [
       "                                                result     loc     time  \\\n",
       "group    options                                                          \n",
       "EndWatch -domain boxes -refine                       0  2151.0    2.073   \n",
       "         -domain boxes -refine -resilience          57  2151.0    2.265   \n",
       "         -domain polyhedra -refine                   0  2151.0   69.995   \n",
       "         -domain polyhedra -refine -resilience      49  2151.0  501.142   \n",
       "Pulse    -domain boxes -refine                       0   724.0    0.574   \n",
       "         -domain boxes -refine -resilience          20   724.0    0.573   \n",
       "         -domain polyhedra -refine                   0   724.0    1.135   \n",
       "         -domain polyhedra -refine -resilience      20   724.0    1.720   \n",
       "SvComp   -domain boxes -refine                       0  2791.0    3.555   \n",
       "         -domain boxes -refine -resilience          61  2791.0    3.680   \n",
       "         -domain polyhedra -refine                   0  2791.0    7.214   \n",
       "         -domain polyhedra -refine -resilience      76  2791.0   16.921   \n",
       "\n",
       "                                                alarms  \n",
       "group    options                                        \n",
       "EndWatch -domain boxes -refine                    85.0  \n",
       "         -domain boxes -refine -resilience        28.0  \n",
       "         -domain polyhedra -refine                85.0  \n",
       "         -domain polyhedra -refine -resilience    20.0  \n",
       "Pulse    -domain boxes -refine                    36.0  \n",
       "         -domain boxes -refine -resilience        16.0  \n",
       "         -domain polyhedra -refine                36.0  \n",
       "         -domain polyhedra -refine -resilience    16.0  \n",
       "SvComp   -domain boxes -refine                   119.0  \n",
       "         -domain boxes -refine -resilience        58.0  \n",
       "         -domain polyhedra -refine               119.0  \n",
       "         -domain polyhedra -refine -resilience    43.0  "
      ]
     },
     "execution_count": 4,
     "metadata": {},
     "output_type": "execute_result"
    }
   ],
   "source": [
    "import pandas as pd\n",
    "import statistics\n",
    "# If you want to do the statistics with your own run of the benchmarks\n",
    "df = pd.read_csv('../results/stats.csv')\n",
    "# otherwise do this \n",
    "# df = pd.read_csv('../computed/stats.csv')\n",
    "df = df.fillna(0)\n",
    "nv = df.groupby('filename').max('nb_vulns')\n",
    "# Here we compute we group by options and nb of vulsn and we print the mean times taken by the analysis\n",
    "df.groupby(['options']).mean('time')['time']\n",
    "tmpu = df\n",
    "tmp=df\n",
    "tmpu['result']= df['result'].map(lambda x: 1 if (x  == \"TRUE\") else (0 if x == \"UNKNOWN\" else (0 if x == \"FALSE\" else -1)))\n",
    "df=df.query(\"property != 'UAutomizer'\")\n",
    "\n",
    "dfg = df.groupby(['group','options']).sum('result')\n",
    "dfg"
   ]
  },
  {
   "cell_type": "code",
   "execution_count": 5,
   "id": "81f5b782-3b82-45c9-9e35-34b8dbac32de",
   "metadata": {},
   "outputs": [
    {
     "name": "stdout",
     "output_type": "stream",
     "text": [
      "27.08399999999998\n",
      "0.10734049079754601\n"
     ]
    }
   ],
   "source": [
    "mx=df.query(\"result==1\").groupby('filename').max('time')\n",
    "avg=df.query(\"result==1\").groupby('filename').mean('time')\n",
    "print(sum(mx['time']))\n",
    "print(statistics.mean(avg['time']))"
   ]
  },
  {
   "cell_type": "code",
   "execution_count": 6,
   "id": "0cf0413d-78f9-4ef3-84ed-1f44a6e3a0f1",
   "metadata": {},
   "outputs": [
    {
     "data": {
      "text/plain": [
       "options\n",
       "-domain boxes -refine                    0.025842\n",
       "-domain boxes -refine -resilience        0.027158\n",
       "-domain polyhedra -refine                0.326433\n",
       "-domain polyhedra -refine -resilience    2.165763\n",
       "Name: time, dtype: float64"
      ]
     },
     "execution_count": 6,
     "metadata": {},
     "output_type": "execute_result"
    }
   ],
   "source": [
    "df.groupby(['options']).mean('time')['time']\n"
   ]
  },
  {
   "cell_type": "code",
   "execution_count": 7,
   "id": "27a83a2c-5249-494a-b878-5e75dcd31308",
   "metadata": {},
   "outputs": [
    {
     "data": {
      "text/plain": [
       "options\n",
       "-domain boxes -refine                      6.202\n",
       "-domain boxes -refine -resilience          6.518\n",
       "-domain polyhedra -refine                 78.344\n",
       "-domain polyhedra -refine -resilience    519.783\n",
       "Name: time, dtype: float64"
      ]
     },
     "execution_count": 7,
     "metadata": {},
     "output_type": "execute_result"
    }
   ],
   "source": [
    "df.groupby(['options']).sum('time')['time']\n"
   ]
  },
  {
   "cell_type": "code",
   "execution_count": 8,
   "id": "e92f6c91-fd07-4810-bbae-b16e90a82818",
   "metadata": {},
   "outputs": [
    {
     "data": {
      "text/plain": [
       "options\n",
       "-domain boxes -refine                      6.202\n",
       "-domain boxes -refine -resilience          6.518\n",
       "-domain polyhedra -refine                 78.344\n",
       "-domain polyhedra -refine -resilience    519.783\n",
       "Name: time, dtype: float64"
      ]
     },
     "execution_count": 8,
     "metadata": {},
     "output_type": "execute_result"
    }
   ],
   "source": [
    "df.groupby(['options']).sum('time')['time']\n"
   ]
  },
  {
   "cell_type": "code",
   "execution_count": 9,
   "id": "93307301-37f8-48d6-935e-cd62e4687382",
   "metadata": {},
   "outputs": [
    {
     "data": {
      "image/png": "[encoded data removed]",
      "text/plain": [
       "<Figure size 720x720 with 4 Axes>"
      ]
     },
     "metadata": {
      "needs_background": "light"
     },
     "output_type": "display_data"
    }
   ],
   "source": [
    "import itertools\n",
    "import matplotlib.pyplot as plt\n",
    "import numpy as np\n",
    "# Get all combinations of length 2 (or any length you want)\n",
    "def cmp_dataframe(opt1,opt2):\n",
    "    files = list(dict.fromkeys(df['filename']))\n",
    "    # je veux comparer les options: j'ai chaque pair d'options, je réccup la valeur pour l'une et pour l'autre et je compare.\n",
    "    # \n",
    "    cmp=pd.DataFrame(columns=['filename','option1','option2','precision','time1','time2'])\n",
    "    grp=df.groupby(['options','filename']).max(\"time\")\n",
    "    for fname in files:\n",
    "        q=f\"filename=='{fname}'\"\n",
    "        grpquery= grp.query(q)\n",
    "        q1 = f\"options=='{opt1}'\"\n",
    "        q2 = f\"options=='{opt2}'\"\n",
    "        time1 = grpquery.query(q1)[\"time\"].values\n",
    "        time2 = grpquery.query(q2)[\"time\"].values\n",
    "        if (grpquery.query(q1)[\"result\"].values[0] > grpquery.query(q2)[\"result\"].values[0]):    \n",
    "            tmp=pd.DataFrame([[fname,opt1,opt2,0,time1,time2]], columns=['filename','option1','option2','precision','time1','time2'])\n",
    "            cmp = pd.concat([cmp,tmp])\n",
    "        elif (grpquery.query(q1)[\"result\"].values[0] == grpquery.query(q2)[\"result\"].values[0]):    \n",
    "            tmp =pd.DataFrame([[fname,opt1,opt2,1,time1,time2]], columns=['filename','option1','option2','precision','time1','time2'])\n",
    "            cmp = pd.concat([cmp,tmp])\n",
    "        else:\n",
    "            tmp =pd.DataFrame([[fname,opt1,opt2,2,time2,time2]], columns=['filename','option1','option2','precision','time1','time2'])\n",
    "            cmp = pd.concat([cmp,tmp])\n",
    "\n",
    "    return cmp\n",
    "fig,axs = plt.subplots(2,2,sharey=True,figsize=(10,10))\n",
    "fig.subplots_adjust(wspace=0.5,hspace=0.5)\n",
    "def print_plot(plt,cmp):\n",
    "    # Plot\n",
    "    L=len(cmp[\"filename\"])\n",
    "    #plt.fig(figsize=(10,10))\n",
    "    # Plot points for category A\n",
    "    x_min = 0.005\n",
    "    x_max = 4\n",
    "    y_min = 0.005\n",
    "    y_max = 4\n",
    "    \n",
    "    epsilon = 0.0001\n",
    "    \n",
    "    s = 100\n",
    "    category_a =  cmp.query(\"precision == 2\")    \n",
    "    x=category_a['time1'].apply(lambda x: x if x < x_max else x_max-epsilon)\n",
    "    y=category_a['time2'].apply(lambda x: x if x < y_max else y_max-epsilon)\n",
    "    plt.scatter(x, y,color='blue', label='opt2 more precise than opt1', marker='o',zorder=10,s=s)\n",
    "\n",
    "    \n",
    "    category_c =  cmp.query(\"precision == 1\")\n",
    "    x=category_c['time1'].apply(lambda x: x if x < x_max else x_max-epsilon)\n",
    "    y=category_c['time2'].apply(lambda x: x if x < y_max else y_max-epsilon)\n",
    "    plt.scatter(x, y,color='green', label='opt1=opt2', marker='*',zorder=10,s=s)\n",
    "\n",
    "    # Plot points for category B\n",
    "    \n",
    "    \n",
    "    category_b =  cmp.query(\"precision == 0\")\n",
    "    x=category_b['time1'].apply(lambda x: x if x < x_max else x_max-epsilon)\n",
    "    y=category_b['time2'].apply(lambda x: x if x < y_max else y_max-epsilon)\n",
    "    plt.scatter(x, y, color='red', label='opt1 more precise than opt2 ', marker='x',zorder=10,s=s)\n",
    "    \n",
    "    \n",
    "    plt.set_yscale('log')\n",
    "    plt.set_xscale('log')\n",
    "    \n",
    "    plt.set_xlim(x_min, x_max)\n",
    "    plt.set_ylim(y_min, y_max)\n",
    "    # Labels and legend\n",
    "    \n",
    "    \n",
    "    #plt.legend()\n",
    "    plt.grid(True)\n",
    "    yx = np.linspace(0,5,100)  # Generates 100 points between 0 and 10\n",
    "    # Show the plot\n",
    "    \n",
    "    l = plt.plot(yx,yx,color='gray')\n",
    "    \n",
    "    \n",
    "print_plot(axs[0][0],cmp_dataframe(\"-domain polyhedra -refine -resilience\",  \"-domain boxes -refine -resilience\"))\n",
    "axs[0][0].title.set_text('(a)')\n",
    "axs[0][0].set_xlabel('''x:LoopResilience-Polyhedra-Delay2''',fontsize=12)\n",
    "axs[0][0].set_ylabel(\"y:LoopResilience-Boxes-Delay2\",fontsize=12)\n",
    "    \n",
    "#print_plot(axs[0][1],cmp_dataframe(\"-domain polyhedra -ordinals 3  -refine -resilience\",  \"-domain boxes -ordinals 3  -refine -resilience\"))\n",
    "#axs[0][1].title.set_text('(b)')\n",
    "#axs[0][1].set_xlabel('''x:LoopResilience-Polyhedra-Lex-Delay2''',fontsize=12)\n",
    "#axs[0][1].set_ylabel(\"y:LoopResilience-Boxes-Lex-Delay2\",fontsize=12)\n",
    "\n",
    "\n",
    "#print_plot(axs[1][0],cmp_dataframe(\"-domain polyhedra -joinbwd 5 -ordinals 3  -refine -resilience\",  \"-domain polyhedra -ordinals 3  -refine -resilience\"))\n",
    "#axs[1][0].title.set_text('(c)')\n",
    "#axs[1][0].set_xlabel('x:LoopResilience-Polyhedra-Lex-Delay5',fontsize=12)\n",
    "#\"axs[1][0].set_ylabel(\"y:LoopResilience-Polyhedra-Lex-Delay2\",fontsize=12)\n",
    "\n",
    "\n",
    "#print_plot(axs[1][1],cmp_dataframe(\"-domain polyhedra -joinbwd 8 -ordinals 3  -refine -resilience\",  \"-domain polyhedra -joinbwd 5 -ordinals 3  -refine -resilience\"))\n",
    "#axs[1][1].title.set_text('(d)')\n",
    "#axs[1][1].set_xlabel('x:LoopResilience-Polyhedra-Lex-Delay8',fontsize=12)\n",
    "#axs[1][1].set_ylabel(\"y:LoopResilience-Polyhedra-Lex-Delay5\",fontsize=12)\n",
    "\n",
    "fig.savefig('cmppolyhedraboxesmulti.svg')"
   ]
  },
  {
   "cell_type": "code",
   "execution_count": null,
   "id": "03595059-07c5-4f01-aa04-af6b5d3984f4",
   "metadata": {},
   "outputs": [],
   "source": []
  },
  {
   "cell_type": "code",
   "execution_count": 13,
   "id": "b4e39a66-38f9-4a91-9859-588759e7ea97",
   "metadata": {},
   "outputs": [
    {
     "data": {
      "image/png": "[encoded data removed]",
      "text/plain": [
       "<Figure size 720x720 with 1 Axes>"
      ]
     },
     "metadata": {
      "needs_background": "light"
     },
     "output_type": "display_data"
    }
   ],
   "source": [
    "fig,axs = plt.subplots(1,1,sharey=True,figsize=(10,10))\n",
    "fig.subplots_adjust(wspace=0.5,hspace=0.5)\n",
    "axs.set_xlabel(\"x:LoopResilience-Boxes-Delay2\",fontsize=30)\n",
    "axs.set_ylabel(\"y:LoopResilience-Polyhedra-Delay2\",fontsize=30)\n",
    "print_plot(axs,cmp_dataframe(\"-domain boxes -refine -resilience\",\"-domain polyhedra -refine -resilience\"))\n",
    "fig.savefig('cmppolyhedraboxesmultiA.svg')"
   ]
  },
  {
   "cell_type": "code",
   "execution_count": 11,
   "id": "32d7b92a-3c40-4195-b0a2-c2c5a5f30d54",
   "metadata": {},
   "outputs": [
    {
     "ename": "IndexError",
     "evalue": "index 0 is out of bounds for axis 0 with size 0",
     "output_type": "error",
     "traceback": [
      "\u001b[0;31m---------------------------------------------------------------------------\u001b[0m",
      "\u001b[0;31mIndexError\u001b[0m                                Traceback (most recent call last)",
      "\u001b[0;32m/tmp/ipykernel_166675/4069585074.py\u001b[0m in \u001b[0;36m<module>\u001b[0;34m\u001b[0m\n\u001b[0;32m----> 1\u001b[0;31m \u001b[0mcmp_dataframe\u001b[0m\u001b[0;34m(\u001b[0m\u001b[0;34m\"-domain polyhedra -joinbwd 8 -ordinals 3  -refine -resilience\"\u001b[0m\u001b[0;34m,\u001b[0m  \u001b[0;34m\"-domain polyhedra -joinbwd 5 -ordinals 3  -refine -resilience\"\u001b[0m\u001b[0;34m)\u001b[0m\u001b[0;34m.\u001b[0m\u001b[0mquery\u001b[0m\u001b[0;34m(\u001b[0m\u001b[0;34m\"filename=='trm_svcomp_Lcm_false-termination-inputrand.c'\"\u001b[0m\u001b[0;34m)\u001b[0m\u001b[0;34m\u001b[0m\u001b[0;34m\u001b[0m\u001b[0m\n\u001b[0m",
      "\u001b[0;32m/tmp/ipykernel_166675/3689679974.py\u001b[0m in \u001b[0;36mcmp_dataframe\u001b[0;34m(opt1, opt2)\u001b[0m\n\u001b[1;32m     16\u001b[0m         \u001b[0mtime1\u001b[0m \u001b[0;34m=\u001b[0m \u001b[0mgrpquery\u001b[0m\u001b[0;34m.\u001b[0m\u001b[0mquery\u001b[0m\u001b[0;34m(\u001b[0m\u001b[0mq1\u001b[0m\u001b[0;34m)\u001b[0m\u001b[0;34m[\u001b[0m\u001b[0;34m\"time\"\u001b[0m\u001b[0;34m]\u001b[0m\u001b[0;34m.\u001b[0m\u001b[0mvalues\u001b[0m\u001b[0;34m\u001b[0m\u001b[0;34m\u001b[0m\u001b[0m\n\u001b[1;32m     17\u001b[0m         \u001b[0mtime2\u001b[0m \u001b[0;34m=\u001b[0m \u001b[0mgrpquery\u001b[0m\u001b[0;34m.\u001b[0m\u001b[0mquery\u001b[0m\u001b[0;34m(\u001b[0m\u001b[0mq2\u001b[0m\u001b[0;34m)\u001b[0m\u001b[0;34m[\u001b[0m\u001b[0;34m\"time\"\u001b[0m\u001b[0;34m]\u001b[0m\u001b[0;34m.\u001b[0m\u001b[0mvalues\u001b[0m\u001b[0;34m\u001b[0m\u001b[0;34m\u001b[0m\u001b[0m\n\u001b[0;32m---> 18\u001b[0;31m         \u001b[0;32mif\u001b[0m \u001b[0;34m(\u001b[0m\u001b[0mgrpquery\u001b[0m\u001b[0;34m.\u001b[0m\u001b[0mquery\u001b[0m\u001b[0;34m(\u001b[0m\u001b[0mq1\u001b[0m\u001b[0;34m)\u001b[0m\u001b[0;34m[\u001b[0m\u001b[0;34m\"result\"\u001b[0m\u001b[0;34m]\u001b[0m\u001b[0;34m.\u001b[0m\u001b[0mvalues\u001b[0m\u001b[0;34m[\u001b[0m\u001b[0;36m0\u001b[0m\u001b[0;34m]\u001b[0m \u001b[0;34m>\u001b[0m \u001b[0mgrpquery\u001b[0m\u001b[0;34m.\u001b[0m\u001b[0mquery\u001b[0m\u001b[0;34m(\u001b[0m\u001b[0mq2\u001b[0m\u001b[0;34m)\u001b[0m\u001b[0;34m[\u001b[0m\u001b[0;34m\"result\"\u001b[0m\u001b[0;34m]\u001b[0m\u001b[0;34m.\u001b[0m\u001b[0mvalues\u001b[0m\u001b[0;34m[\u001b[0m\u001b[0;36m0\u001b[0m\u001b[0;34m]\u001b[0m\u001b[0;34m)\u001b[0m\u001b[0;34m:\u001b[0m\u001b[0;34m\u001b[0m\u001b[0;34m\u001b[0m\u001b[0m\n\u001b[0m\u001b[1;32m     19\u001b[0m             \u001b[0mtmp\u001b[0m\u001b[0;34m=\u001b[0m\u001b[0mpd\u001b[0m\u001b[0;34m.\u001b[0m\u001b[0mDataFrame\u001b[0m\u001b[0;34m(\u001b[0m\u001b[0;34m[\u001b[0m\u001b[0;34m[\u001b[0m\u001b[0mfname\u001b[0m\u001b[0;34m,\u001b[0m\u001b[0mopt1\u001b[0m\u001b[0;34m,\u001b[0m\u001b[0mopt2\u001b[0m\u001b[0;34m,\u001b[0m\u001b[0;36m0\u001b[0m\u001b[0;34m,\u001b[0m\u001b[0mtime1\u001b[0m\u001b[0;34m,\u001b[0m\u001b[0mtime2\u001b[0m\u001b[0;34m]\u001b[0m\u001b[0;34m]\u001b[0m\u001b[0;34m,\u001b[0m \u001b[0mcolumns\u001b[0m\u001b[0;34m=\u001b[0m\u001b[0;34m[\u001b[0m\u001b[0;34m'filename'\u001b[0m\u001b[0;34m,\u001b[0m\u001b[0;34m'option1'\u001b[0m\u001b[0;34m,\u001b[0m\u001b[0;34m'option2'\u001b[0m\u001b[0;34m,\u001b[0m\u001b[0;34m'precision'\u001b[0m\u001b[0;34m,\u001b[0m\u001b[0;34m'time1'\u001b[0m\u001b[0;34m,\u001b[0m\u001b[0;34m'time2'\u001b[0m\u001b[0;34m]\u001b[0m\u001b[0;34m)\u001b[0m\u001b[0;34m\u001b[0m\u001b[0;34m\u001b[0m\u001b[0m\n\u001b[1;32m     20\u001b[0m             \u001b[0mcmp\u001b[0m \u001b[0;34m=\u001b[0m \u001b[0mpd\u001b[0m\u001b[0;34m.\u001b[0m\u001b[0mconcat\u001b[0m\u001b[0;34m(\u001b[0m\u001b[0;34m[\u001b[0m\u001b[0mcmp\u001b[0m\u001b[0;34m,\u001b[0m\u001b[0mtmp\u001b[0m\u001b[0;34m]\u001b[0m\u001b[0;34m)\u001b[0m\u001b[0;34m\u001b[0m\u001b[0;34m\u001b[0m\u001b[0m\n",
      "\u001b[0;31mIndexError\u001b[0m: index 0 is out of bounds for axis 0 with size 0"
     ]
    }
   ],
   "source": [
    "cmp_dataframe(\"-domain polyhedra -joinbwd 8 -ordinals 3  -refine -resilience\",  \"-domain polyhedra -joinbwd 5 -ordinals 3  -refine -resilience\").query(\"filename=='trm_svcomp_Lcm_false-termination-inputrand.c'\")"
   ]
  },
  {
   "cell_type": "code",
   "execution_count": null,
   "id": "0cca3c38-33e7-4362-ad27-f970dfdae8c0",
   "metadata": {},
   "outputs": [],
   "source": [
    "# Compare polyhedra and boxes with ord 3\n",
    "cmp_dataframe(\"-domain polyhedra -ordinals 3  -refine -resilience\",  \"-domain boxes -ordinals 3  -refine -resilience\").query(\"precision == 2\")"
   ]
  },
  {
   "cell_type": "code",
   "execution_count": null,
   "id": "a83e17e7-2a1e-426e-9477-78c871dd97d5",
   "metadata": {},
   "outputs": [],
   "source": [
    "cmp_dataframe(\"-domain polyhedra -ordinals 3  -refine -resilience\",  \"-domain boxes -ordinals 3  -refine -resilience\").query(\"precision == 0\").shape[0]"
   ]
  },
  {
   "cell_type": "code",
   "execution_count": null,
   "id": "59a03dc3-fc2d-46ed-9143-6288afaec65d",
   "metadata": {},
   "outputs": [],
   "source": [
    "# Compare polyhedra and boxes with ord 3 and widening delay 5\n",
    "cmp_dataframe(\"-domain polyhedra -joinbwd 8 -ordinals 3  -refine -resilience\",  \"-domain boxes -ordinals 3  -refine -resilience\").query(\"precision == 2\")\n"
   ]
  },
  {
   "cell_type": "code",
   "execution_count": 30,
   "id": "3526bb4c-ffdf-4bcd-97ef-1b837e00ada1",
   "metadata": {},
   "outputs": [
    {
     "ename": "IndexError",
     "evalue": "index 0 is out of bounds for axis 0 with size 0",
     "output_type": "error",
     "traceback": [
      "\u001b[0;31m---------------------------------------------------------------------------\u001b[0m",
      "\u001b[0;31mIndexError\u001b[0m                                Traceback (most recent call last)",
      "\u001b[0;32m/tmp/ipykernel_490561/1784254630.py\u001b[0m in \u001b[0;36m<module>\u001b[0;34m\u001b[0m\n\u001b[0;32m----> 1\u001b[0;31m \u001b[0mcmp_dataframe\u001b[0m\u001b[0;34m(\u001b[0m\u001b[0;34m\"-domain polyhedra -joinbwd 8 -ordinals 3  -refine -resilience\"\u001b[0m\u001b[0;34m,\u001b[0m  \u001b[0;34m\"-domain boxes -ordinals 3  -refine -resilience\"\u001b[0m\u001b[0;34m)\u001b[0m\u001b[0;34m.\u001b[0m\u001b[0mquery\u001b[0m\u001b[0;34m(\u001b[0m\u001b[0;34m\"precision == 0\"\u001b[0m\u001b[0;34m)\u001b[0m\u001b[0;34m.\u001b[0m\u001b[0mshape\u001b[0m\u001b[0;34m[\u001b[0m\u001b[0;36m0\u001b[0m\u001b[0;34m]\u001b[0m\u001b[0;34m\u001b[0m\u001b[0;34m\u001b[0m\u001b[0m\n\u001b[0m",
      "\u001b[0;32m/tmp/ipykernel_490561/3689679974.py\u001b[0m in \u001b[0;36mcmp_dataframe\u001b[0;34m(opt1, opt2)\u001b[0m\n\u001b[1;32m     16\u001b[0m         \u001b[0mtime1\u001b[0m \u001b[0;34m=\u001b[0m \u001b[0mgrpquery\u001b[0m\u001b[0;34m.\u001b[0m\u001b[0mquery\u001b[0m\u001b[0;34m(\u001b[0m\u001b[0mq1\u001b[0m\u001b[0;34m)\u001b[0m\u001b[0;34m[\u001b[0m\u001b[0;34m\"time\"\u001b[0m\u001b[0;34m]\u001b[0m\u001b[0;34m.\u001b[0m\u001b[0mvalues\u001b[0m\u001b[0;34m\u001b[0m\u001b[0;34m\u001b[0m\u001b[0m\n\u001b[1;32m     17\u001b[0m         \u001b[0mtime2\u001b[0m \u001b[0;34m=\u001b[0m \u001b[0mgrpquery\u001b[0m\u001b[0;34m.\u001b[0m\u001b[0mquery\u001b[0m\u001b[0;34m(\u001b[0m\u001b[0mq2\u001b[0m\u001b[0;34m)\u001b[0m\u001b[0;34m[\u001b[0m\u001b[0;34m\"time\"\u001b[0m\u001b[0;34m]\u001b[0m\u001b[0;34m.\u001b[0m\u001b[0mvalues\u001b[0m\u001b[0;34m\u001b[0m\u001b[0;34m\u001b[0m\u001b[0m\n\u001b[0;32m---> 18\u001b[0;31m         \u001b[0;32mif\u001b[0m \u001b[0;34m(\u001b[0m\u001b[0mgrpquery\u001b[0m\u001b[0;34m.\u001b[0m\u001b[0mquery\u001b[0m\u001b[0;34m(\u001b[0m\u001b[0mq1\u001b[0m\u001b[0;34m)\u001b[0m\u001b[0;34m[\u001b[0m\u001b[0;34m\"result\"\u001b[0m\u001b[0;34m]\u001b[0m\u001b[0;34m.\u001b[0m\u001b[0mvalues\u001b[0m\u001b[0;34m[\u001b[0m\u001b[0;36m0\u001b[0m\u001b[0;34m]\u001b[0m \u001b[0;34m>\u001b[0m \u001b[0mgrpquery\u001b[0m\u001b[0;34m.\u001b[0m\u001b[0mquery\u001b[0m\u001b[0;34m(\u001b[0m\u001b[0mq2\u001b[0m\u001b[0;34m)\u001b[0m\u001b[0;34m[\u001b[0m\u001b[0;34m\"result\"\u001b[0m\u001b[0;34m]\u001b[0m\u001b[0;34m.\u001b[0m\u001b[0mvalues\u001b[0m\u001b[0;34m[\u001b[0m\u001b[0;36m0\u001b[0m\u001b[0;34m]\u001b[0m\u001b[0;34m)\u001b[0m\u001b[0;34m:\u001b[0m\u001b[0;34m\u001b[0m\u001b[0;34m\u001b[0m\u001b[0m\n\u001b[0m\u001b[1;32m     19\u001b[0m             \u001b[0mtmp\u001b[0m\u001b[0;34m=\u001b[0m\u001b[0mpd\u001b[0m\u001b[0;34m.\u001b[0m\u001b[0mDataFrame\u001b[0m\u001b[0;34m(\u001b[0m\u001b[0;34m[\u001b[0m\u001b[0;34m[\u001b[0m\u001b[0mfname\u001b[0m\u001b[0;34m,\u001b[0m\u001b[0mopt1\u001b[0m\u001b[0;34m,\u001b[0m\u001b[0mopt2\u001b[0m\u001b[0;34m,\u001b[0m\u001b[0;36m0\u001b[0m\u001b[0;34m,\u001b[0m\u001b[0mtime1\u001b[0m\u001b[0;34m,\u001b[0m\u001b[0mtime2\u001b[0m\u001b[0;34m]\u001b[0m\u001b[0;34m]\u001b[0m\u001b[0;34m,\u001b[0m \u001b[0mcolumns\u001b[0m\u001b[0;34m=\u001b[0m\u001b[0;34m[\u001b[0m\u001b[0;34m'filename'\u001b[0m\u001b[0;34m,\u001b[0m\u001b[0;34m'option1'\u001b[0m\u001b[0;34m,\u001b[0m\u001b[0;34m'option2'\u001b[0m\u001b[0;34m,\u001b[0m\u001b[0;34m'precision'\u001b[0m\u001b[0;34m,\u001b[0m\u001b[0;34m'time1'\u001b[0m\u001b[0;34m,\u001b[0m\u001b[0;34m'time2'\u001b[0m\u001b[0;34m]\u001b[0m\u001b[0;34m)\u001b[0m\u001b[0;34m\u001b[0m\u001b[0;34m\u001b[0m\u001b[0m\n\u001b[1;32m     20\u001b[0m             \u001b[0mcmp\u001b[0m \u001b[0;34m=\u001b[0m \u001b[0mpd\u001b[0m\u001b[0;34m.\u001b[0m\u001b[0mconcat\u001b[0m\u001b[0;34m(\u001b[0m\u001b[0;34m[\u001b[0m\u001b[0mcmp\u001b[0m\u001b[0;34m,\u001b[0m\u001b[0mtmp\u001b[0m\u001b[0;34m]\u001b[0m\u001b[0;34m)\u001b[0m\u001b[0;34m\u001b[0m\u001b[0;34m\u001b[0m\u001b[0m\n",
      "\u001b[0;31mIndexError\u001b[0m: index 0 is out of bounds for axis 0 with size 0"
     ]
    }
   ],
   "source": [
    "cmp_dataframe(\"-domain polyhedra -joinbwd 8 -ordinals 3  -refine -resilience\",  \"-domain boxes -ordinals 3  -refine -resilience\").query(\"precision == 0\").shape[0]"
   ]
  },
  {
   "cell_type": "code",
   "execution_count": 31,
   "id": "0d3aaf24-6bf7-41b3-bbe6-adaad41dc1ab",
   "metadata": {},
   "outputs": [
    {
     "ename": "IndexError",
     "evalue": "index 0 is out of bounds for axis 0 with size 0",
     "output_type": "error",
     "traceback": [
      "\u001b[0;31m---------------------------------------------------------------------------\u001b[0m",
      "\u001b[0;31mIndexError\u001b[0m                                Traceback (most recent call last)",
      "\u001b[0;32m/tmp/ipykernel_490561/3063895444.py\u001b[0m in \u001b[0;36m<module>\u001b[0;34m\u001b[0m\n\u001b[0;32m----> 1\u001b[0;31m \u001b[0mcmp_dataframe\u001b[0m\u001b[0;34m(\u001b[0m\u001b[0;34m\"-domain polyhedra -joinbwd 8 -ordinals 3  -refine -resilience\"\u001b[0m\u001b[0;34m,\u001b[0m  \u001b[0;34m\"-domain boxes -joinbwd 8 -ordinals 3  -refine -resilience\"\u001b[0m\u001b[0;34m)\u001b[0m\u001b[0;34m.\u001b[0m\u001b[0mquery\u001b[0m\u001b[0;34m(\u001b[0m\u001b[0;34m\"precision == 2\"\u001b[0m\u001b[0;34m)\u001b[0m\u001b[0;34m\u001b[0m\u001b[0;34m\u001b[0m\u001b[0m\n\u001b[0m",
      "\u001b[0;32m/tmp/ipykernel_490561/3689679974.py\u001b[0m in \u001b[0;36mcmp_dataframe\u001b[0;34m(opt1, opt2)\u001b[0m\n\u001b[1;32m     16\u001b[0m         \u001b[0mtime1\u001b[0m \u001b[0;34m=\u001b[0m \u001b[0mgrpquery\u001b[0m\u001b[0;34m.\u001b[0m\u001b[0mquery\u001b[0m\u001b[0;34m(\u001b[0m\u001b[0mq1\u001b[0m\u001b[0;34m)\u001b[0m\u001b[0;34m[\u001b[0m\u001b[0;34m\"time\"\u001b[0m\u001b[0;34m]\u001b[0m\u001b[0;34m.\u001b[0m\u001b[0mvalues\u001b[0m\u001b[0;34m\u001b[0m\u001b[0;34m\u001b[0m\u001b[0m\n\u001b[1;32m     17\u001b[0m         \u001b[0mtime2\u001b[0m \u001b[0;34m=\u001b[0m \u001b[0mgrpquery\u001b[0m\u001b[0;34m.\u001b[0m\u001b[0mquery\u001b[0m\u001b[0;34m(\u001b[0m\u001b[0mq2\u001b[0m\u001b[0;34m)\u001b[0m\u001b[0;34m[\u001b[0m\u001b[0;34m\"time\"\u001b[0m\u001b[0;34m]\u001b[0m\u001b[0;34m.\u001b[0m\u001b[0mvalues\u001b[0m\u001b[0;34m\u001b[0m\u001b[0;34m\u001b[0m\u001b[0m\n\u001b[0;32m---> 18\u001b[0;31m         \u001b[0;32mif\u001b[0m \u001b[0;34m(\u001b[0m\u001b[0mgrpquery\u001b[0m\u001b[0;34m.\u001b[0m\u001b[0mquery\u001b[0m\u001b[0;34m(\u001b[0m\u001b[0mq1\u001b[0m\u001b[0;34m)\u001b[0m\u001b[0;34m[\u001b[0m\u001b[0;34m\"result\"\u001b[0m\u001b[0;34m]\u001b[0m\u001b[0;34m.\u001b[0m\u001b[0mvalues\u001b[0m\u001b[0;34m[\u001b[0m\u001b[0;36m0\u001b[0m\u001b[0;34m]\u001b[0m \u001b[0;34m>\u001b[0m \u001b[0mgrpquery\u001b[0m\u001b[0;34m.\u001b[0m\u001b[0mquery\u001b[0m\u001b[0;34m(\u001b[0m\u001b[0mq2\u001b[0m\u001b[0;34m)\u001b[0m\u001b[0;34m[\u001b[0m\u001b[0;34m\"result\"\u001b[0m\u001b[0;34m]\u001b[0m\u001b[0;34m.\u001b[0m\u001b[0mvalues\u001b[0m\u001b[0;34m[\u001b[0m\u001b[0;36m0\u001b[0m\u001b[0;34m]\u001b[0m\u001b[0;34m)\u001b[0m\u001b[0;34m:\u001b[0m\u001b[0;34m\u001b[0m\u001b[0;34m\u001b[0m\u001b[0m\n\u001b[0m\u001b[1;32m     19\u001b[0m             \u001b[0mtmp\u001b[0m\u001b[0;34m=\u001b[0m\u001b[0mpd\u001b[0m\u001b[0;34m.\u001b[0m\u001b[0mDataFrame\u001b[0m\u001b[0;34m(\u001b[0m\u001b[0;34m[\u001b[0m\u001b[0;34m[\u001b[0m\u001b[0mfname\u001b[0m\u001b[0;34m,\u001b[0m\u001b[0mopt1\u001b[0m\u001b[0;34m,\u001b[0m\u001b[0mopt2\u001b[0m\u001b[0;34m,\u001b[0m\u001b[0;36m0\u001b[0m\u001b[0;34m,\u001b[0m\u001b[0mtime1\u001b[0m\u001b[0;34m,\u001b[0m\u001b[0mtime2\u001b[0m\u001b[0;34m]\u001b[0m\u001b[0;34m]\u001b[0m\u001b[0;34m,\u001b[0m \u001b[0mcolumns\u001b[0m\u001b[0;34m=\u001b[0m\u001b[0;34m[\u001b[0m\u001b[0;34m'filename'\u001b[0m\u001b[0;34m,\u001b[0m\u001b[0;34m'option1'\u001b[0m\u001b[0;34m,\u001b[0m\u001b[0;34m'option2'\u001b[0m\u001b[0;34m,\u001b[0m\u001b[0;34m'precision'\u001b[0m\u001b[0;34m,\u001b[0m\u001b[0;34m'time1'\u001b[0m\u001b[0;34m,\u001b[0m\u001b[0;34m'time2'\u001b[0m\u001b[0;34m]\u001b[0m\u001b[0;34m)\u001b[0m\u001b[0;34m\u001b[0m\u001b[0;34m\u001b[0m\u001b[0m\n\u001b[1;32m     20\u001b[0m             \u001b[0mcmp\u001b[0m \u001b[0;34m=\u001b[0m \u001b[0mpd\u001b[0m\u001b[0;34m.\u001b[0m\u001b[0mconcat\u001b[0m\u001b[0;34m(\u001b[0m\u001b[0;34m[\u001b[0m\u001b[0mcmp\u001b[0m\u001b[0;34m,\u001b[0m\u001b[0mtmp\u001b[0m\u001b[0;34m]\u001b[0m\u001b[0;34m)\u001b[0m\u001b[0;34m\u001b[0m\u001b[0;34m\u001b[0m\u001b[0m\n",
      "\u001b[0;31mIndexError\u001b[0m: index 0 is out of bounds for axis 0 with size 0"
     ]
    }
   ],
   "source": [
    "cmp_dataframe(\"-domain polyhedra -joinbwd 8 -ordinals 3  -refine -resilience\",  \"-domain boxes -joinbwd 8 -ordinals 3  -refine -resilience\").query(\"precision == 2\")"
   ]
  },
  {
   "cell_type": "code",
   "execution_count": 32,
   "id": "f0627dd0-a100-4f14-95d3-151efed21fb6",
   "metadata": {},
   "outputs": [
    {
     "ename": "IndexError",
     "evalue": "index 0 is out of bounds for axis 0 with size 0",
     "output_type": "error",
     "traceback": [
      "\u001b[0;31m---------------------------------------------------------------------------\u001b[0m",
      "\u001b[0;31mIndexError\u001b[0m                                Traceback (most recent call last)",
      "\u001b[0;32m/tmp/ipykernel_490561/422494370.py\u001b[0m in \u001b[0;36m<module>\u001b[0;34m\u001b[0m\n\u001b[1;32m      1\u001b[0m \u001b[0;31m# Compare polyhedra with ord 3 and without\u001b[0m\u001b[0;34m\u001b[0m\u001b[0;34m\u001b[0m\u001b[0m\n\u001b[0;32m----> 2\u001b[0;31m \u001b[0mcmp_dataframe\u001b[0m\u001b[0;34m(\u001b[0m\u001b[0;34m\"-domain polyhedra -ordinals 3  -refine -resilience\"\u001b[0m\u001b[0;34m,\u001b[0m\u001b[0;34m\"-domain polyhedra -refine -resilience\"\u001b[0m\u001b[0;34m)\u001b[0m\u001b[0;34m.\u001b[0m\u001b[0mquery\u001b[0m\u001b[0;34m(\u001b[0m\u001b[0;34m\"precision == 1\"\u001b[0m\u001b[0;34m)\u001b[0m\u001b[0;34m\u001b[0m\u001b[0;34m\u001b[0m\u001b[0m\n\u001b[0m",
      "\u001b[0;32m/tmp/ipykernel_490561/3689679974.py\u001b[0m in \u001b[0;36mcmp_dataframe\u001b[0;34m(opt1, opt2)\u001b[0m\n\u001b[1;32m     16\u001b[0m         \u001b[0mtime1\u001b[0m \u001b[0;34m=\u001b[0m \u001b[0mgrpquery\u001b[0m\u001b[0;34m.\u001b[0m\u001b[0mquery\u001b[0m\u001b[0;34m(\u001b[0m\u001b[0mq1\u001b[0m\u001b[0;34m)\u001b[0m\u001b[0;34m[\u001b[0m\u001b[0;34m\"time\"\u001b[0m\u001b[0;34m]\u001b[0m\u001b[0;34m.\u001b[0m\u001b[0mvalues\u001b[0m\u001b[0;34m\u001b[0m\u001b[0;34m\u001b[0m\u001b[0m\n\u001b[1;32m     17\u001b[0m         \u001b[0mtime2\u001b[0m \u001b[0;34m=\u001b[0m \u001b[0mgrpquery\u001b[0m\u001b[0;34m.\u001b[0m\u001b[0mquery\u001b[0m\u001b[0;34m(\u001b[0m\u001b[0mq2\u001b[0m\u001b[0;34m)\u001b[0m\u001b[0;34m[\u001b[0m\u001b[0;34m\"time\"\u001b[0m\u001b[0;34m]\u001b[0m\u001b[0;34m.\u001b[0m\u001b[0mvalues\u001b[0m\u001b[0;34m\u001b[0m\u001b[0;34m\u001b[0m\u001b[0m\n\u001b[0;32m---> 18\u001b[0;31m         \u001b[0;32mif\u001b[0m \u001b[0;34m(\u001b[0m\u001b[0mgrpquery\u001b[0m\u001b[0;34m.\u001b[0m\u001b[0mquery\u001b[0m\u001b[0;34m(\u001b[0m\u001b[0mq1\u001b[0m\u001b[0;34m)\u001b[0m\u001b[0;34m[\u001b[0m\u001b[0;34m\"result\"\u001b[0m\u001b[0;34m]\u001b[0m\u001b[0;34m.\u001b[0m\u001b[0mvalues\u001b[0m\u001b[0;34m[\u001b[0m\u001b[0;36m0\u001b[0m\u001b[0;34m]\u001b[0m \u001b[0;34m>\u001b[0m \u001b[0mgrpquery\u001b[0m\u001b[0;34m.\u001b[0m\u001b[0mquery\u001b[0m\u001b[0;34m(\u001b[0m\u001b[0mq2\u001b[0m\u001b[0;34m)\u001b[0m\u001b[0;34m[\u001b[0m\u001b[0;34m\"result\"\u001b[0m\u001b[0;34m]\u001b[0m\u001b[0;34m.\u001b[0m\u001b[0mvalues\u001b[0m\u001b[0;34m[\u001b[0m\u001b[0;36m0\u001b[0m\u001b[0;34m]\u001b[0m\u001b[0;34m)\u001b[0m\u001b[0;34m:\u001b[0m\u001b[0;34m\u001b[0m\u001b[0;34m\u001b[0m\u001b[0m\n\u001b[0m\u001b[1;32m     19\u001b[0m             \u001b[0mtmp\u001b[0m\u001b[0;34m=\u001b[0m\u001b[0mpd\u001b[0m\u001b[0;34m.\u001b[0m\u001b[0mDataFrame\u001b[0m\u001b[0;34m(\u001b[0m\u001b[0;34m[\u001b[0m\u001b[0;34m[\u001b[0m\u001b[0mfname\u001b[0m\u001b[0;34m,\u001b[0m\u001b[0mopt1\u001b[0m\u001b[0;34m,\u001b[0m\u001b[0mopt2\u001b[0m\u001b[0;34m,\u001b[0m\u001b[0;36m0\u001b[0m\u001b[0;34m,\u001b[0m\u001b[0mtime1\u001b[0m\u001b[0;34m,\u001b[0m\u001b[0mtime2\u001b[0m\u001b[0;34m]\u001b[0m\u001b[0;34m]\u001b[0m\u001b[0;34m,\u001b[0m \u001b[0mcolumns\u001b[0m\u001b[0;34m=\u001b[0m\u001b[0;34m[\u001b[0m\u001b[0;34m'filename'\u001b[0m\u001b[0;34m,\u001b[0m\u001b[0;34m'option1'\u001b[0m\u001b[0;34m,\u001b[0m\u001b[0;34m'option2'\u001b[0m\u001b[0;34m,\u001b[0m\u001b[0;34m'precision'\u001b[0m\u001b[0;34m,\u001b[0m\u001b[0;34m'time1'\u001b[0m\u001b[0;34m,\u001b[0m\u001b[0;34m'time2'\u001b[0m\u001b[0;34m]\u001b[0m\u001b[0;34m)\u001b[0m\u001b[0;34m\u001b[0m\u001b[0;34m\u001b[0m\u001b[0m\n\u001b[1;32m     20\u001b[0m             \u001b[0mcmp\u001b[0m \u001b[0;34m=\u001b[0m \u001b[0mpd\u001b[0m\u001b[0;34m.\u001b[0m\u001b[0mconcat\u001b[0m\u001b[0;34m(\u001b[0m\u001b[0;34m[\u001b[0m\u001b[0mcmp\u001b[0m\u001b[0;34m,\u001b[0m\u001b[0mtmp\u001b[0m\u001b[0;34m]\u001b[0m\u001b[0;34m)\u001b[0m\u001b[0;34m\u001b[0m\u001b[0;34m\u001b[0m\u001b[0m\n",
      "\u001b[0;31mIndexError\u001b[0m: index 0 is out of bounds for axis 0 with size 0"
     ]
    }
   ],
   "source": [
    "# Compare polyhedra with ord 3 and without\n",
    "cmp_dataframe(\"-domain polyhedra -ordinals 3  -refine -resilience\",\"-domain polyhedra -refine -resilience\").query(\"precision == 1\")"
   ]
  },
  {
   "cell_type": "code",
   "execution_count": 33,
   "id": "cd709ff9-0cb8-457b-8aaa-7e937c561b99",
   "metadata": {},
   "outputs": [
    {
     "ename": "IndexError",
     "evalue": "index 0 is out of bounds for axis 0 with size 0",
     "output_type": "error",
     "traceback": [
      "\u001b[0;31m---------------------------------------------------------------------------\u001b[0m",
      "\u001b[0;31mIndexError\u001b[0m                                Traceback (most recent call last)",
      "\u001b[0;32m/tmp/ipykernel_490561/2577659787.py\u001b[0m in \u001b[0;36m<module>\u001b[0;34m\u001b[0m\n\u001b[1;32m      1\u001b[0m \u001b[0;31m# Compare polyhedra with ord 3 and with ord 3 + delay 5\u001b[0m\u001b[0;34m\u001b[0m\u001b[0;34m\u001b[0m\u001b[0m\n\u001b[0;32m----> 2\u001b[0;31m \u001b[0mcmp_dataframe\u001b[0m\u001b[0;34m(\u001b[0m\u001b[0;34m\"-domain polyhedra -ordinals 3  -refine -resilience\"\u001b[0m\u001b[0;34m,\u001b[0m\u001b[0;34m\"-domain polyhedra -joinbwd 5 -ordinals 3  -refine -resilience\"\u001b[0m\u001b[0;34m)\u001b[0m\u001b[0;34m.\u001b[0m\u001b[0mquery\u001b[0m\u001b[0;34m(\u001b[0m\u001b[0;34m\"precision == 1\"\u001b[0m\u001b[0;34m)\u001b[0m\u001b[0;34m\u001b[0m\u001b[0;34m\u001b[0m\u001b[0m\n\u001b[0m\u001b[1;32m      3\u001b[0m \u001b[0;34m\u001b[0m\u001b[0m\n",
      "\u001b[0;32m/tmp/ipykernel_490561/3689679974.py\u001b[0m in \u001b[0;36mcmp_dataframe\u001b[0;34m(opt1, opt2)\u001b[0m\n\u001b[1;32m     16\u001b[0m         \u001b[0mtime1\u001b[0m \u001b[0;34m=\u001b[0m \u001b[0mgrpquery\u001b[0m\u001b[0;34m.\u001b[0m\u001b[0mquery\u001b[0m\u001b[0;34m(\u001b[0m\u001b[0mq1\u001b[0m\u001b[0;34m)\u001b[0m\u001b[0;34m[\u001b[0m\u001b[0;34m\"time\"\u001b[0m\u001b[0;34m]\u001b[0m\u001b[0;34m.\u001b[0m\u001b[0mvalues\u001b[0m\u001b[0;34m\u001b[0m\u001b[0;34m\u001b[0m\u001b[0m\n\u001b[1;32m     17\u001b[0m         \u001b[0mtime2\u001b[0m \u001b[0;34m=\u001b[0m \u001b[0mgrpquery\u001b[0m\u001b[0;34m.\u001b[0m\u001b[0mquery\u001b[0m\u001b[0;34m(\u001b[0m\u001b[0mq2\u001b[0m\u001b[0;34m)\u001b[0m\u001b[0;34m[\u001b[0m\u001b[0;34m\"time\"\u001b[0m\u001b[0;34m]\u001b[0m\u001b[0;34m.\u001b[0m\u001b[0mvalues\u001b[0m\u001b[0;34m\u001b[0m\u001b[0;34m\u001b[0m\u001b[0m\n\u001b[0;32m---> 18\u001b[0;31m         \u001b[0;32mif\u001b[0m \u001b[0;34m(\u001b[0m\u001b[0mgrpquery\u001b[0m\u001b[0;34m.\u001b[0m\u001b[0mquery\u001b[0m\u001b[0;34m(\u001b[0m\u001b[0mq1\u001b[0m\u001b[0;34m)\u001b[0m\u001b[0;34m[\u001b[0m\u001b[0;34m\"result\"\u001b[0m\u001b[0;34m]\u001b[0m\u001b[0;34m.\u001b[0m\u001b[0mvalues\u001b[0m\u001b[0;34m[\u001b[0m\u001b[0;36m0\u001b[0m\u001b[0;34m]\u001b[0m \u001b[0;34m>\u001b[0m \u001b[0mgrpquery\u001b[0m\u001b[0;34m.\u001b[0m\u001b[0mquery\u001b[0m\u001b[0;34m(\u001b[0m\u001b[0mq2\u001b[0m\u001b[0;34m)\u001b[0m\u001b[0;34m[\u001b[0m\u001b[0;34m\"result\"\u001b[0m\u001b[0;34m]\u001b[0m\u001b[0;34m.\u001b[0m\u001b[0mvalues\u001b[0m\u001b[0;34m[\u001b[0m\u001b[0;36m0\u001b[0m\u001b[0;34m]\u001b[0m\u001b[0;34m)\u001b[0m\u001b[0;34m:\u001b[0m\u001b[0;34m\u001b[0m\u001b[0;34m\u001b[0m\u001b[0m\n\u001b[0m\u001b[1;32m     19\u001b[0m             \u001b[0mtmp\u001b[0m\u001b[0;34m=\u001b[0m\u001b[0mpd\u001b[0m\u001b[0;34m.\u001b[0m\u001b[0mDataFrame\u001b[0m\u001b[0;34m(\u001b[0m\u001b[0;34m[\u001b[0m\u001b[0;34m[\u001b[0m\u001b[0mfname\u001b[0m\u001b[0;34m,\u001b[0m\u001b[0mopt1\u001b[0m\u001b[0;34m,\u001b[0m\u001b[0mopt2\u001b[0m\u001b[0;34m,\u001b[0m\u001b[0;36m0\u001b[0m\u001b[0;34m,\u001b[0m\u001b[0mtime1\u001b[0m\u001b[0;34m,\u001b[0m\u001b[0mtime2\u001b[0m\u001b[0;34m]\u001b[0m\u001b[0;34m]\u001b[0m\u001b[0;34m,\u001b[0m \u001b[0mcolumns\u001b[0m\u001b[0;34m=\u001b[0m\u001b[0;34m[\u001b[0m\u001b[0;34m'filename'\u001b[0m\u001b[0;34m,\u001b[0m\u001b[0;34m'option1'\u001b[0m\u001b[0;34m,\u001b[0m\u001b[0;34m'option2'\u001b[0m\u001b[0;34m,\u001b[0m\u001b[0;34m'precision'\u001b[0m\u001b[0;34m,\u001b[0m\u001b[0;34m'time1'\u001b[0m\u001b[0;34m,\u001b[0m\u001b[0;34m'time2'\u001b[0m\u001b[0;34m]\u001b[0m\u001b[0;34m)\u001b[0m\u001b[0;34m\u001b[0m\u001b[0;34m\u001b[0m\u001b[0m\n\u001b[1;32m     20\u001b[0m             \u001b[0mcmp\u001b[0m \u001b[0;34m=\u001b[0m \u001b[0mpd\u001b[0m\u001b[0;34m.\u001b[0m\u001b[0mconcat\u001b[0m\u001b[0;34m(\u001b[0m\u001b[0;34m[\u001b[0m\u001b[0mcmp\u001b[0m\u001b[0;34m,\u001b[0m\u001b[0mtmp\u001b[0m\u001b[0;34m]\u001b[0m\u001b[0;34m)\u001b[0m\u001b[0;34m\u001b[0m\u001b[0;34m\u001b[0m\u001b[0m\n",
      "\u001b[0;31mIndexError\u001b[0m: index 0 is out of bounds for axis 0 with size 0"
     ]
    }
   ],
   "source": [
    "# Compare polyhedra with ord 3 and with ord 3 + delay 5\n",
    "cmp_dataframe(\"-domain polyhedra -ordinals 3  -refine -resilience\",\"-domain polyhedra -joinbwd 5 -ordinals 3  -refine -resilience\").query(\"precision == 1\")\n",
    "\n"
   ]
  },
  {
   "cell_type": "code",
   "execution_count": 34,
   "id": "33e4453a-a8f8-41cd-b629-6bb269bcb112",
   "metadata": {},
   "outputs": [
    {
     "ename": "IndexError",
     "evalue": "index 0 is out of bounds for axis 0 with size 0",
     "output_type": "error",
     "traceback": [
      "\u001b[0;31m---------------------------------------------------------------------------\u001b[0m",
      "\u001b[0;31mIndexError\u001b[0m                                Traceback (most recent call last)",
      "\u001b[0;32m/tmp/ipykernel_490561/858233918.py\u001b[0m in \u001b[0;36m<module>\u001b[0;34m\u001b[0m\n\u001b[1;32m      1\u001b[0m \u001b[0;31m# Compare BOXES with ord 3 and  boxes with ord 3 + delay 5\u001b[0m\u001b[0;34m\u001b[0m\u001b[0;34m\u001b[0m\u001b[0m\n\u001b[0;32m----> 2\u001b[0;31m \u001b[0mcmp_dataframe\u001b[0m\u001b[0;34m(\u001b[0m\u001b[0;34m\"-domain boxes -ordinals 3  -refine -resilience\"\u001b[0m\u001b[0;34m,\u001b[0m\u001b[0;34m\"-domain boxes -joinbwd 5 -ordinals 3  -refine -resilience\"\u001b[0m \u001b[0;34m)\u001b[0m\u001b[0;34m.\u001b[0m\u001b[0mquery\u001b[0m\u001b[0;34m(\u001b[0m\u001b[0;34m\"precision == 1\"\u001b[0m\u001b[0;34m)\u001b[0m\u001b[0;34m\u001b[0m\u001b[0;34m\u001b[0m\u001b[0m\n\u001b[0m",
      "\u001b[0;32m/tmp/ipykernel_490561/3689679974.py\u001b[0m in \u001b[0;36mcmp_dataframe\u001b[0;34m(opt1, opt2)\u001b[0m\n\u001b[1;32m     16\u001b[0m         \u001b[0mtime1\u001b[0m \u001b[0;34m=\u001b[0m \u001b[0mgrpquery\u001b[0m\u001b[0;34m.\u001b[0m\u001b[0mquery\u001b[0m\u001b[0;34m(\u001b[0m\u001b[0mq1\u001b[0m\u001b[0;34m)\u001b[0m\u001b[0;34m[\u001b[0m\u001b[0;34m\"time\"\u001b[0m\u001b[0;34m]\u001b[0m\u001b[0;34m.\u001b[0m\u001b[0mvalues\u001b[0m\u001b[0;34m\u001b[0m\u001b[0;34m\u001b[0m\u001b[0m\n\u001b[1;32m     17\u001b[0m         \u001b[0mtime2\u001b[0m \u001b[0;34m=\u001b[0m \u001b[0mgrpquery\u001b[0m\u001b[0;34m.\u001b[0m\u001b[0mquery\u001b[0m\u001b[0;34m(\u001b[0m\u001b[0mq2\u001b[0m\u001b[0;34m)\u001b[0m\u001b[0;34m[\u001b[0m\u001b[0;34m\"time\"\u001b[0m\u001b[0;34m]\u001b[0m\u001b[0;34m.\u001b[0m\u001b[0mvalues\u001b[0m\u001b[0;34m\u001b[0m\u001b[0;34m\u001b[0m\u001b[0m\n\u001b[0;32m---> 18\u001b[0;31m         \u001b[0;32mif\u001b[0m \u001b[0;34m(\u001b[0m\u001b[0mgrpquery\u001b[0m\u001b[0;34m.\u001b[0m\u001b[0mquery\u001b[0m\u001b[0;34m(\u001b[0m\u001b[0mq1\u001b[0m\u001b[0;34m)\u001b[0m\u001b[0;34m[\u001b[0m\u001b[0;34m\"result\"\u001b[0m\u001b[0;34m]\u001b[0m\u001b[0;34m.\u001b[0m\u001b[0mvalues\u001b[0m\u001b[0;34m[\u001b[0m\u001b[0;36m0\u001b[0m\u001b[0;34m]\u001b[0m \u001b[0;34m>\u001b[0m \u001b[0mgrpquery\u001b[0m\u001b[0;34m.\u001b[0m\u001b[0mquery\u001b[0m\u001b[0;34m(\u001b[0m\u001b[0mq2\u001b[0m\u001b[0;34m)\u001b[0m\u001b[0;34m[\u001b[0m\u001b[0;34m\"result\"\u001b[0m\u001b[0;34m]\u001b[0m\u001b[0;34m.\u001b[0m\u001b[0mvalues\u001b[0m\u001b[0;34m[\u001b[0m\u001b[0;36m0\u001b[0m\u001b[0;34m]\u001b[0m\u001b[0;34m)\u001b[0m\u001b[0;34m:\u001b[0m\u001b[0;34m\u001b[0m\u001b[0;34m\u001b[0m\u001b[0m\n\u001b[0m\u001b[1;32m     19\u001b[0m             \u001b[0mtmp\u001b[0m\u001b[0;34m=\u001b[0m\u001b[0mpd\u001b[0m\u001b[0;34m.\u001b[0m\u001b[0mDataFrame\u001b[0m\u001b[0;34m(\u001b[0m\u001b[0;34m[\u001b[0m\u001b[0;34m[\u001b[0m\u001b[0mfname\u001b[0m\u001b[0;34m,\u001b[0m\u001b[0mopt1\u001b[0m\u001b[0;34m,\u001b[0m\u001b[0mopt2\u001b[0m\u001b[0;34m,\u001b[0m\u001b[0;36m0\u001b[0m\u001b[0;34m,\u001b[0m\u001b[0mtime1\u001b[0m\u001b[0;34m,\u001b[0m\u001b[0mtime2\u001b[0m\u001b[0;34m]\u001b[0m\u001b[0;34m]\u001b[0m\u001b[0;34m,\u001b[0m \u001b[0mcolumns\u001b[0m\u001b[0;34m=\u001b[0m\u001b[0;34m[\u001b[0m\u001b[0;34m'filename'\u001b[0m\u001b[0;34m,\u001b[0m\u001b[0;34m'option1'\u001b[0m\u001b[0;34m,\u001b[0m\u001b[0;34m'option2'\u001b[0m\u001b[0;34m,\u001b[0m\u001b[0;34m'precision'\u001b[0m\u001b[0;34m,\u001b[0m\u001b[0;34m'time1'\u001b[0m\u001b[0;34m,\u001b[0m\u001b[0;34m'time2'\u001b[0m\u001b[0;34m]\u001b[0m\u001b[0;34m)\u001b[0m\u001b[0;34m\u001b[0m\u001b[0;34m\u001b[0m\u001b[0m\n\u001b[1;32m     20\u001b[0m             \u001b[0mcmp\u001b[0m \u001b[0;34m=\u001b[0m \u001b[0mpd\u001b[0m\u001b[0;34m.\u001b[0m\u001b[0mconcat\u001b[0m\u001b[0;34m(\u001b[0m\u001b[0;34m[\u001b[0m\u001b[0mcmp\u001b[0m\u001b[0;34m,\u001b[0m\u001b[0mtmp\u001b[0m\u001b[0;34m]\u001b[0m\u001b[0;34m)\u001b[0m\u001b[0;34m\u001b[0m\u001b[0;34m\u001b[0m\u001b[0m\n",
      "\u001b[0;31mIndexError\u001b[0m: index 0 is out of bounds for axis 0 with size 0"
     ]
    }
   ],
   "source": [
    "# Compare BOXES with ord 3 and  boxes with ord 3 + delay 5\n",
    "cmp_dataframe(\"-domain boxes -ordinals 3  -refine -resilience\",\"-domain boxes -joinbwd 5 -ordinals 3  -refine -resilience\" ).query(\"precision == 1\")"
   ]
  },
  {
   "cell_type": "code",
   "execution_count": 35,
   "id": "b091a2ab-b376-4dc5-b033-c43aaccb9d11",
   "metadata": {},
   "outputs": [
    {
     "ename": "IndexError",
     "evalue": "index 0 is out of bounds for axis 0 with size 0",
     "output_type": "error",
     "traceback": [
      "\u001b[0;31m---------------------------------------------------------------------------\u001b[0m",
      "\u001b[0;31mIndexError\u001b[0m                                Traceback (most recent call last)",
      "\u001b[0;32m/tmp/ipykernel_490561/751746397.py\u001b[0m in \u001b[0;36m<module>\u001b[0;34m\u001b[0m\n\u001b[1;32m      1\u001b[0m \u001b[0;31m# Compare polyhedra with ord 3 and with ord 3 + delay 5\u001b[0m\u001b[0;34m\u001b[0m\u001b[0;34m\u001b[0m\u001b[0m\n\u001b[0;32m----> 2\u001b[0;31m \u001b[0mcmp_dataframe\u001b[0m\u001b[0;34m(\u001b[0m\u001b[0;34m\"-domain polyhedra -ordinals 3  -refine -resilience\"\u001b[0m\u001b[0;34m,\u001b[0m\u001b[0;34m\"-domain polyhedra -joinbwd 8 -refine -resilience\"\u001b[0m\u001b[0;34m)\u001b[0m\u001b[0;34m.\u001b[0m\u001b[0mquery\u001b[0m\u001b[0;34m(\u001b[0m\u001b[0;34m\"precision == 1\"\u001b[0m\u001b[0;34m)\u001b[0m\u001b[0;34m\u001b[0m\u001b[0;34m\u001b[0m\u001b[0m\n\u001b[0m",
      "\u001b[0;32m/tmp/ipykernel_490561/3689679974.py\u001b[0m in \u001b[0;36mcmp_dataframe\u001b[0;34m(opt1, opt2)\u001b[0m\n\u001b[1;32m     16\u001b[0m         \u001b[0mtime1\u001b[0m \u001b[0;34m=\u001b[0m \u001b[0mgrpquery\u001b[0m\u001b[0;34m.\u001b[0m\u001b[0mquery\u001b[0m\u001b[0;34m(\u001b[0m\u001b[0mq1\u001b[0m\u001b[0;34m)\u001b[0m\u001b[0;34m[\u001b[0m\u001b[0;34m\"time\"\u001b[0m\u001b[0;34m]\u001b[0m\u001b[0;34m.\u001b[0m\u001b[0mvalues\u001b[0m\u001b[0;34m\u001b[0m\u001b[0;34m\u001b[0m\u001b[0m\n\u001b[1;32m     17\u001b[0m         \u001b[0mtime2\u001b[0m \u001b[0;34m=\u001b[0m \u001b[0mgrpquery\u001b[0m\u001b[0;34m.\u001b[0m\u001b[0mquery\u001b[0m\u001b[0;34m(\u001b[0m\u001b[0mq2\u001b[0m\u001b[0;34m)\u001b[0m\u001b[0;34m[\u001b[0m\u001b[0;34m\"time\"\u001b[0m\u001b[0;34m]\u001b[0m\u001b[0;34m.\u001b[0m\u001b[0mvalues\u001b[0m\u001b[0;34m\u001b[0m\u001b[0;34m\u001b[0m\u001b[0m\n\u001b[0;32m---> 18\u001b[0;31m         \u001b[0;32mif\u001b[0m \u001b[0;34m(\u001b[0m\u001b[0mgrpquery\u001b[0m\u001b[0;34m.\u001b[0m\u001b[0mquery\u001b[0m\u001b[0;34m(\u001b[0m\u001b[0mq1\u001b[0m\u001b[0;34m)\u001b[0m\u001b[0;34m[\u001b[0m\u001b[0;34m\"result\"\u001b[0m\u001b[0;34m]\u001b[0m\u001b[0;34m.\u001b[0m\u001b[0mvalues\u001b[0m\u001b[0;34m[\u001b[0m\u001b[0;36m0\u001b[0m\u001b[0;34m]\u001b[0m \u001b[0;34m>\u001b[0m \u001b[0mgrpquery\u001b[0m\u001b[0;34m.\u001b[0m\u001b[0mquery\u001b[0m\u001b[0;34m(\u001b[0m\u001b[0mq2\u001b[0m\u001b[0;34m)\u001b[0m\u001b[0;34m[\u001b[0m\u001b[0;34m\"result\"\u001b[0m\u001b[0;34m]\u001b[0m\u001b[0;34m.\u001b[0m\u001b[0mvalues\u001b[0m\u001b[0;34m[\u001b[0m\u001b[0;36m0\u001b[0m\u001b[0;34m]\u001b[0m\u001b[0;34m)\u001b[0m\u001b[0;34m:\u001b[0m\u001b[0;34m\u001b[0m\u001b[0;34m\u001b[0m\u001b[0m\n\u001b[0m\u001b[1;32m     19\u001b[0m             \u001b[0mtmp\u001b[0m\u001b[0;34m=\u001b[0m\u001b[0mpd\u001b[0m\u001b[0;34m.\u001b[0m\u001b[0mDataFrame\u001b[0m\u001b[0;34m(\u001b[0m\u001b[0;34m[\u001b[0m\u001b[0;34m[\u001b[0m\u001b[0mfname\u001b[0m\u001b[0;34m,\u001b[0m\u001b[0mopt1\u001b[0m\u001b[0;34m,\u001b[0m\u001b[0mopt2\u001b[0m\u001b[0;34m,\u001b[0m\u001b[0;36m0\u001b[0m\u001b[0;34m,\u001b[0m\u001b[0mtime1\u001b[0m\u001b[0;34m,\u001b[0m\u001b[0mtime2\u001b[0m\u001b[0;34m]\u001b[0m\u001b[0;34m]\u001b[0m\u001b[0;34m,\u001b[0m \u001b[0mcolumns\u001b[0m\u001b[0;34m=\u001b[0m\u001b[0;34m[\u001b[0m\u001b[0;34m'filename'\u001b[0m\u001b[0;34m,\u001b[0m\u001b[0;34m'option1'\u001b[0m\u001b[0;34m,\u001b[0m\u001b[0;34m'option2'\u001b[0m\u001b[0;34m,\u001b[0m\u001b[0;34m'precision'\u001b[0m\u001b[0;34m,\u001b[0m\u001b[0;34m'time1'\u001b[0m\u001b[0;34m,\u001b[0m\u001b[0;34m'time2'\u001b[0m\u001b[0;34m]\u001b[0m\u001b[0;34m)\u001b[0m\u001b[0;34m\u001b[0m\u001b[0;34m\u001b[0m\u001b[0m\n\u001b[1;32m     20\u001b[0m             \u001b[0mcmp\u001b[0m \u001b[0;34m=\u001b[0m \u001b[0mpd\u001b[0m\u001b[0;34m.\u001b[0m\u001b[0mconcat\u001b[0m\u001b[0;34m(\u001b[0m\u001b[0;34m[\u001b[0m\u001b[0mcmp\u001b[0m\u001b[0;34m,\u001b[0m\u001b[0mtmp\u001b[0m\u001b[0;34m]\u001b[0m\u001b[0;34m)\u001b[0m\u001b[0;34m\u001b[0m\u001b[0;34m\u001b[0m\u001b[0m\n",
      "\u001b[0;31mIndexError\u001b[0m: index 0 is out of bounds for axis 0 with size 0"
     ]
    }
   ],
   "source": [
    "# Compare polyhedra with ord 3 and with ord 3 + delay 5\n",
    "cmp_dataframe(\"-domain polyhedra -ordinals 3  -refine -resilience\",\"-domain polyhedra -joinbwd 8 -refine -resilience\").query(\"precision == 1\")\n"
   ]
  },
  {
   "cell_type": "code",
   "execution_count": 36,
   "id": "6fed430d-f1f0-47e5-b6fb-540ef7d7d1fc",
   "metadata": {},
   "outputs": [
    {
     "ename": "IndexError",
     "evalue": "index 0 is out of bounds for axis 0 with size 0",
     "output_type": "error",
     "traceback": [
      "\u001b[0;31m---------------------------------------------------------------------------\u001b[0m",
      "\u001b[0;31mIndexError\u001b[0m                                Traceback (most recent call last)",
      "\u001b[0;32m/tmp/ipykernel_490561/1954522380.py\u001b[0m in \u001b[0;36m<module>\u001b[0;34m\u001b[0m\n\u001b[1;32m      1\u001b[0m \u001b[0;31m# Compare polyhedra with ord 3 and with ord 3 + delay 8\u001b[0m\u001b[0;34m\u001b[0m\u001b[0;34m\u001b[0m\u001b[0m\n\u001b[0;32m----> 2\u001b[0;31m \u001b[0mcmp_dataframe\u001b[0m\u001b[0;34m(\u001b[0m\u001b[0;34m\"-domain polyhedra -ordinals 3  -refine -resilience\"\u001b[0m\u001b[0;34m,\u001b[0m\u001b[0;34m\"-domain polyhedra -joinbwd 8 -refine -resilience\"\u001b[0m\u001b[0;34m)\u001b[0m\u001b[0;34m.\u001b[0m\u001b[0mquery\u001b[0m\u001b[0;34m(\u001b[0m\u001b[0;34m\"precision == 1\"\u001b[0m\u001b[0;34m)\u001b[0m\u001b[0;34m\u001b[0m\u001b[0;34m\u001b[0m\u001b[0m\n\u001b[0m",
      "\u001b[0;32m/tmp/ipykernel_490561/3689679974.py\u001b[0m in \u001b[0;36mcmp_dataframe\u001b[0;34m(opt1, opt2)\u001b[0m\n\u001b[1;32m     16\u001b[0m         \u001b[0mtime1\u001b[0m \u001b[0;34m=\u001b[0m \u001b[0mgrpquery\u001b[0m\u001b[0;34m.\u001b[0m\u001b[0mquery\u001b[0m\u001b[0;34m(\u001b[0m\u001b[0mq1\u001b[0m\u001b[0;34m)\u001b[0m\u001b[0;34m[\u001b[0m\u001b[0;34m\"time\"\u001b[0m\u001b[0;34m]\u001b[0m\u001b[0;34m.\u001b[0m\u001b[0mvalues\u001b[0m\u001b[0;34m\u001b[0m\u001b[0;34m\u001b[0m\u001b[0m\n\u001b[1;32m     17\u001b[0m         \u001b[0mtime2\u001b[0m \u001b[0;34m=\u001b[0m \u001b[0mgrpquery\u001b[0m\u001b[0;34m.\u001b[0m\u001b[0mquery\u001b[0m\u001b[0;34m(\u001b[0m\u001b[0mq2\u001b[0m\u001b[0;34m)\u001b[0m\u001b[0;34m[\u001b[0m\u001b[0;34m\"time\"\u001b[0m\u001b[0;34m]\u001b[0m\u001b[0;34m.\u001b[0m\u001b[0mvalues\u001b[0m\u001b[0;34m\u001b[0m\u001b[0;34m\u001b[0m\u001b[0m\n\u001b[0;32m---> 18\u001b[0;31m         \u001b[0;32mif\u001b[0m \u001b[0;34m(\u001b[0m\u001b[0mgrpquery\u001b[0m\u001b[0;34m.\u001b[0m\u001b[0mquery\u001b[0m\u001b[0;34m(\u001b[0m\u001b[0mq1\u001b[0m\u001b[0;34m)\u001b[0m\u001b[0;34m[\u001b[0m\u001b[0;34m\"result\"\u001b[0m\u001b[0;34m]\u001b[0m\u001b[0;34m.\u001b[0m\u001b[0mvalues\u001b[0m\u001b[0;34m[\u001b[0m\u001b[0;36m0\u001b[0m\u001b[0;34m]\u001b[0m \u001b[0;34m>\u001b[0m \u001b[0mgrpquery\u001b[0m\u001b[0;34m.\u001b[0m\u001b[0mquery\u001b[0m\u001b[0;34m(\u001b[0m\u001b[0mq2\u001b[0m\u001b[0;34m)\u001b[0m\u001b[0;34m[\u001b[0m\u001b[0;34m\"result\"\u001b[0m\u001b[0;34m]\u001b[0m\u001b[0;34m.\u001b[0m\u001b[0mvalues\u001b[0m\u001b[0;34m[\u001b[0m\u001b[0;36m0\u001b[0m\u001b[0;34m]\u001b[0m\u001b[0;34m)\u001b[0m\u001b[0;34m:\u001b[0m\u001b[0;34m\u001b[0m\u001b[0;34m\u001b[0m\u001b[0m\n\u001b[0m\u001b[1;32m     19\u001b[0m             \u001b[0mtmp\u001b[0m\u001b[0;34m=\u001b[0m\u001b[0mpd\u001b[0m\u001b[0;34m.\u001b[0m\u001b[0mDataFrame\u001b[0m\u001b[0;34m(\u001b[0m\u001b[0;34m[\u001b[0m\u001b[0;34m[\u001b[0m\u001b[0mfname\u001b[0m\u001b[0;34m,\u001b[0m\u001b[0mopt1\u001b[0m\u001b[0;34m,\u001b[0m\u001b[0mopt2\u001b[0m\u001b[0;34m,\u001b[0m\u001b[0;36m0\u001b[0m\u001b[0;34m,\u001b[0m\u001b[0mtime1\u001b[0m\u001b[0;34m,\u001b[0m\u001b[0mtime2\u001b[0m\u001b[0;34m]\u001b[0m\u001b[0;34m]\u001b[0m\u001b[0;34m,\u001b[0m \u001b[0mcolumns\u001b[0m\u001b[0;34m=\u001b[0m\u001b[0;34m[\u001b[0m\u001b[0;34m'filename'\u001b[0m\u001b[0;34m,\u001b[0m\u001b[0;34m'option1'\u001b[0m\u001b[0;34m,\u001b[0m\u001b[0;34m'option2'\u001b[0m\u001b[0;34m,\u001b[0m\u001b[0;34m'precision'\u001b[0m\u001b[0;34m,\u001b[0m\u001b[0;34m'time1'\u001b[0m\u001b[0;34m,\u001b[0m\u001b[0;34m'time2'\u001b[0m\u001b[0;34m]\u001b[0m\u001b[0;34m)\u001b[0m\u001b[0;34m\u001b[0m\u001b[0;34m\u001b[0m\u001b[0m\n\u001b[1;32m     20\u001b[0m             \u001b[0mcmp\u001b[0m \u001b[0;34m=\u001b[0m \u001b[0mpd\u001b[0m\u001b[0;34m.\u001b[0m\u001b[0mconcat\u001b[0m\u001b[0;34m(\u001b[0m\u001b[0;34m[\u001b[0m\u001b[0mcmp\u001b[0m\u001b[0;34m,\u001b[0m\u001b[0mtmp\u001b[0m\u001b[0;34m]\u001b[0m\u001b[0;34m)\u001b[0m\u001b[0;34m\u001b[0m\u001b[0;34m\u001b[0m\u001b[0m\n",
      "\u001b[0;31mIndexError\u001b[0m: index 0 is out of bounds for axis 0 with size 0"
     ]
    }
   ],
   "source": [
    "# Compare polyhedra with ord 3 and with ord 3 + delay 8\n",
    "cmp_dataframe(\"-domain polyhedra -ordinals 3  -refine -resilience\",\"-domain polyhedra -joinbwd 8 -refine -resilience\").query(\"precision == 1\")\n"
   ]
  },
  {
   "cell_type": "code",
   "execution_count": 37,
   "id": "e9e02aff-1cba-4a47-9929-bc7fd393cbcc",
   "metadata": {},
   "outputs": [
    {
     "ename": "IndexError",
     "evalue": "index 0 is out of bounds for axis 0 with size 0",
     "output_type": "error",
     "traceback": [
      "\u001b[0;31m---------------------------------------------------------------------------\u001b[0m",
      "\u001b[0;31mIndexError\u001b[0m                                Traceback (most recent call last)",
      "\u001b[0;32m/tmp/ipykernel_490561/2261435347.py\u001b[0m in \u001b[0;36m<module>\u001b[0;34m\u001b[0m\n\u001b[0;32m----> 1\u001b[0;31m \u001b[0mcmp_dataframe\u001b[0m\u001b[0;34m(\u001b[0m\u001b[0;34m\"-domain polyhedra -joinbwd 8 -refine -resilience\"\u001b[0m\u001b[0;34m,\u001b[0m\u001b[0;34m\"-domain polyhedra -ordinals 3  -refine -resilience\"\u001b[0m\u001b[0;34m)\u001b[0m\u001b[0;34m.\u001b[0m\u001b[0mquery\u001b[0m\u001b[0;34m(\u001b[0m\u001b[0;34m\"precision == 2\"\u001b[0m\u001b[0;34m)\u001b[0m\u001b[0;34m\u001b[0m\u001b[0;34m\u001b[0m\u001b[0m\n\u001b[0m",
      "\u001b[0;32m/tmp/ipykernel_490561/3689679974.py\u001b[0m in \u001b[0;36mcmp_dataframe\u001b[0;34m(opt1, opt2)\u001b[0m\n\u001b[1;32m     16\u001b[0m         \u001b[0mtime1\u001b[0m \u001b[0;34m=\u001b[0m \u001b[0mgrpquery\u001b[0m\u001b[0;34m.\u001b[0m\u001b[0mquery\u001b[0m\u001b[0;34m(\u001b[0m\u001b[0mq1\u001b[0m\u001b[0;34m)\u001b[0m\u001b[0;34m[\u001b[0m\u001b[0;34m\"time\"\u001b[0m\u001b[0;34m]\u001b[0m\u001b[0;34m.\u001b[0m\u001b[0mvalues\u001b[0m\u001b[0;34m\u001b[0m\u001b[0;34m\u001b[0m\u001b[0m\n\u001b[1;32m     17\u001b[0m         \u001b[0mtime2\u001b[0m \u001b[0;34m=\u001b[0m \u001b[0mgrpquery\u001b[0m\u001b[0;34m.\u001b[0m\u001b[0mquery\u001b[0m\u001b[0;34m(\u001b[0m\u001b[0mq2\u001b[0m\u001b[0;34m)\u001b[0m\u001b[0;34m[\u001b[0m\u001b[0;34m\"time\"\u001b[0m\u001b[0;34m]\u001b[0m\u001b[0;34m.\u001b[0m\u001b[0mvalues\u001b[0m\u001b[0;34m\u001b[0m\u001b[0;34m\u001b[0m\u001b[0m\n\u001b[0;32m---> 18\u001b[0;31m         \u001b[0;32mif\u001b[0m \u001b[0;34m(\u001b[0m\u001b[0mgrpquery\u001b[0m\u001b[0;34m.\u001b[0m\u001b[0mquery\u001b[0m\u001b[0;34m(\u001b[0m\u001b[0mq1\u001b[0m\u001b[0;34m)\u001b[0m\u001b[0;34m[\u001b[0m\u001b[0;34m\"result\"\u001b[0m\u001b[0;34m]\u001b[0m\u001b[0;34m.\u001b[0m\u001b[0mvalues\u001b[0m\u001b[0;34m[\u001b[0m\u001b[0;36m0\u001b[0m\u001b[0;34m]\u001b[0m \u001b[0;34m>\u001b[0m \u001b[0mgrpquery\u001b[0m\u001b[0;34m.\u001b[0m\u001b[0mquery\u001b[0m\u001b[0;34m(\u001b[0m\u001b[0mq2\u001b[0m\u001b[0;34m)\u001b[0m\u001b[0;34m[\u001b[0m\u001b[0;34m\"result\"\u001b[0m\u001b[0;34m]\u001b[0m\u001b[0;34m.\u001b[0m\u001b[0mvalues\u001b[0m\u001b[0;34m[\u001b[0m\u001b[0;36m0\u001b[0m\u001b[0;34m]\u001b[0m\u001b[0;34m)\u001b[0m\u001b[0;34m:\u001b[0m\u001b[0;34m\u001b[0m\u001b[0;34m\u001b[0m\u001b[0m\n\u001b[0m\u001b[1;32m     19\u001b[0m             \u001b[0mtmp\u001b[0m\u001b[0;34m=\u001b[0m\u001b[0mpd\u001b[0m\u001b[0;34m.\u001b[0m\u001b[0mDataFrame\u001b[0m\u001b[0;34m(\u001b[0m\u001b[0;34m[\u001b[0m\u001b[0;34m[\u001b[0m\u001b[0mfname\u001b[0m\u001b[0;34m,\u001b[0m\u001b[0mopt1\u001b[0m\u001b[0;34m,\u001b[0m\u001b[0mopt2\u001b[0m\u001b[0;34m,\u001b[0m\u001b[0;36m0\u001b[0m\u001b[0;34m,\u001b[0m\u001b[0mtime1\u001b[0m\u001b[0;34m,\u001b[0m\u001b[0mtime2\u001b[0m\u001b[0;34m]\u001b[0m\u001b[0;34m]\u001b[0m\u001b[0;34m,\u001b[0m \u001b[0mcolumns\u001b[0m\u001b[0;34m=\u001b[0m\u001b[0;34m[\u001b[0m\u001b[0;34m'filename'\u001b[0m\u001b[0;34m,\u001b[0m\u001b[0;34m'option1'\u001b[0m\u001b[0;34m,\u001b[0m\u001b[0;34m'option2'\u001b[0m\u001b[0;34m,\u001b[0m\u001b[0;34m'precision'\u001b[0m\u001b[0;34m,\u001b[0m\u001b[0;34m'time1'\u001b[0m\u001b[0;34m,\u001b[0m\u001b[0;34m'time2'\u001b[0m\u001b[0;34m]\u001b[0m\u001b[0;34m)\u001b[0m\u001b[0;34m\u001b[0m\u001b[0;34m\u001b[0m\u001b[0m\n\u001b[1;32m     20\u001b[0m             \u001b[0mcmp\u001b[0m \u001b[0;34m=\u001b[0m \u001b[0mpd\u001b[0m\u001b[0;34m.\u001b[0m\u001b[0mconcat\u001b[0m\u001b[0;34m(\u001b[0m\u001b[0;34m[\u001b[0m\u001b[0mcmp\u001b[0m\u001b[0;34m,\u001b[0m\u001b[0mtmp\u001b[0m\u001b[0;34m]\u001b[0m\u001b[0;34m)\u001b[0m\u001b[0;34m\u001b[0m\u001b[0;34m\u001b[0m\u001b[0m\n",
      "\u001b[0;31mIndexError\u001b[0m: index 0 is out of bounds for axis 0 with size 0"
     ]
    }
   ],
   "source": [
    "cmp_dataframe(\"-domain polyhedra -joinbwd 8 -refine -resilience\",\"-domain polyhedra -ordinals 3  -refine -resilience\").query(\"precision == 2\")"
   ]
  },
  {
   "cell_type": "code",
   "execution_count": 52,
   "id": "ab12c45e-cd45-4c7a-bcbe-369155c30893",
   "metadata": {},
   "outputs": [
    {
     "data": {
      "text/html": [
       "<div>\n",
       "<style scoped>\n",
       "    .dataframe tbody tr th:only-of-type {\n",
       "        vertical-align: middle;\n",
       "    }\n",
       "\n",
       "    .dataframe tbody tr th {\n",
       "        vertical-align: top;\n",
       "    }\n",
       "\n",
       "    .dataframe thead th {\n",
       "        text-align: right;\n",
       "    }\n",
       "</style>\n",
       "<table border=\"1\" class=\"dataframe\">\n",
       "  <thead>\n",
       "    <tr style=\"text-align: right;\">\n",
       "      <th></th>\n",
       "      <th>filename</th>\n",
       "      <th>option1</th>\n",
       "      <th>option2</th>\n",
       "      <th>precision</th>\n",
       "      <th>time1</th>\n",
       "      <th>time2</th>\n",
       "    </tr>\n",
       "  </thead>\n",
       "  <tbody>\n",
       "    <tr>\n",
       "      <th>0</th>\n",
       "      <td>Adding_Subtracting_Zero_1_NT_combination_1.c</td>\n",
       "      <td>-domain polyhedra -refine -resilience</td>\n",
       "      <td>UAutomizer</td>\n",
       "      <td>0</td>\n",
       "      <td>[0.052]</td>\n",
       "      <td>[4.354]</td>\n",
       "    </tr>\n",
       "    <tr>\n",
       "      <th>0</th>\n",
       "      <td>Adding_Subtracting_Zero_2_NT_combination_1.c</td>\n",
       "      <td>-domain polyhedra -refine -resilience</td>\n",
       "      <td>UAutomizer</td>\n",
       "      <td>0</td>\n",
       "      <td>[0.375]</td>\n",
       "      <td>[5.01]</td>\n",
       "    </tr>\n",
       "    <tr>\n",
       "      <th>0</th>\n",
       "      <td>Adding_Subtracting_Zero_2_NT_combination_2.c</td>\n",
       "      <td>-domain polyhedra -refine -resilience</td>\n",
       "      <td>UAutomizer</td>\n",
       "      <td>0</td>\n",
       "      <td>[0.295]</td>\n",
       "      <td>[5.009]</td>\n",
       "    </tr>\n",
       "    <tr>\n",
       "      <th>0</th>\n",
       "      <td>Adding_Subtracting_Zero_2_NT_combination_3.c</td>\n",
       "      <td>-domain polyhedra -refine -resilience</td>\n",
       "      <td>UAutomizer</td>\n",
       "      <td>0</td>\n",
       "      <td>[0.288]</td>\n",
       "      <td>[5.009]</td>\n",
       "    </tr>\n",
       "    <tr>\n",
       "      <th>0</th>\n",
       "      <td>Adding_Subtracting_Zero_2_NT_combination_4.c</td>\n",
       "      <td>-domain polyhedra -refine -resilience</td>\n",
       "      <td>UAutomizer</td>\n",
       "      <td>0</td>\n",
       "      <td>[0.327]</td>\n",
       "      <td>[5.01]</td>\n",
       "    </tr>\n",
       "    <tr>\n",
       "      <th>0</th>\n",
       "      <td>Adding_Subtracting_Zero_2_NT_combination_5.c</td>\n",
       "      <td>-domain polyhedra -refine -resilience</td>\n",
       "      <td>UAutomizer</td>\n",
       "      <td>0</td>\n",
       "      <td>[0.318]</td>\n",
       "      <td>[5.01]</td>\n",
       "    </tr>\n",
       "    <tr>\n",
       "      <th>0</th>\n",
       "      <td>Adding_Subtracting_Zero_2_NT_combination_6.c</td>\n",
       "      <td>-domain polyhedra -refine -resilience</td>\n",
       "      <td>UAutomizer</td>\n",
       "      <td>0</td>\n",
       "      <td>[0.412]</td>\n",
       "      <td>[5.012]</td>\n",
       "    </tr>\n",
       "    <tr>\n",
       "      <th>0</th>\n",
       "      <td>Adding_Subtracting_Zero_2_NT_combination_7.c</td>\n",
       "      <td>-domain polyhedra -refine -resilience</td>\n",
       "      <td>UAutomizer</td>\n",
       "      <td>0</td>\n",
       "      <td>[0.383]</td>\n",
       "      <td>[5.013]</td>\n",
       "    </tr>\n",
       "    <tr>\n",
       "      <th>0</th>\n",
       "      <td>Adding_Subtracting_Zero_2_NT_combination_8.c</td>\n",
       "      <td>-domain polyhedra -refine -resilience</td>\n",
       "      <td>UAutomizer</td>\n",
       "      <td>0</td>\n",
       "      <td>[0.419]</td>\n",
       "      <td>[5.011]</td>\n",
       "    </tr>\n",
       "    <tr>\n",
       "      <th>0</th>\n",
       "      <td>Incorrect_Initialization_4_NT_combination_1.c</td>\n",
       "      <td>-domain polyhedra -refine -resilience</td>\n",
       "      <td>UAutomizer</td>\n",
       "      <td>0</td>\n",
       "      <td>[0.263]</td>\n",
       "      <td>[4.936]</td>\n",
       "    </tr>\n",
       "    <tr>\n",
       "      <th>0</th>\n",
       "      <td>Incorrect_Initialization_4_NT_combination_2.c</td>\n",
       "      <td>-domain polyhedra -refine -resilience</td>\n",
       "      <td>UAutomizer</td>\n",
       "      <td>0</td>\n",
       "      <td>[0.248]</td>\n",
       "      <td>[5.012]</td>\n",
       "    </tr>\n",
       "    <tr>\n",
       "      <th>0</th>\n",
       "      <td>Incorrect_Initialization_4_NT_combination_3.c</td>\n",
       "      <td>-domain polyhedra -refine -resilience</td>\n",
       "      <td>UAutomizer</td>\n",
       "      <td>0</td>\n",
       "      <td>[0.305]</td>\n",
       "      <td>[4.517]</td>\n",
       "    </tr>\n",
       "    <tr>\n",
       "      <th>0</th>\n",
       "      <td>Incorrect_Initialization_4_NT_combination_4.c</td>\n",
       "      <td>-domain polyhedra -refine -resilience</td>\n",
       "      <td>UAutomizer</td>\n",
       "      <td>0</td>\n",
       "      <td>[0.228]</td>\n",
       "      <td>[5.001]</td>\n",
       "    </tr>\n",
       "  </tbody>\n",
       "</table>\n",
       "</div>"
      ],
      "text/plain": [
       "                                        filename  \\\n",
       "0   Adding_Subtracting_Zero_1_NT_combination_1.c   \n",
       "0   Adding_Subtracting_Zero_2_NT_combination_1.c   \n",
       "0   Adding_Subtracting_Zero_2_NT_combination_2.c   \n",
       "0   Adding_Subtracting_Zero_2_NT_combination_3.c   \n",
       "0   Adding_Subtracting_Zero_2_NT_combination_4.c   \n",
       "0   Adding_Subtracting_Zero_2_NT_combination_5.c   \n",
       "0   Adding_Subtracting_Zero_2_NT_combination_6.c   \n",
       "0   Adding_Subtracting_Zero_2_NT_combination_7.c   \n",
       "0   Adding_Subtracting_Zero_2_NT_combination_8.c   \n",
       "0  Incorrect_Initialization_4_NT_combination_1.c   \n",
       "0  Incorrect_Initialization_4_NT_combination_2.c   \n",
       "0  Incorrect_Initialization_4_NT_combination_3.c   \n",
       "0  Incorrect_Initialization_4_NT_combination_4.c   \n",
       "\n",
       "                                 option1     option2 precision    time1  \\\n",
       "0  -domain polyhedra -refine -resilience  UAutomizer         0  [0.052]   \n",
       "0  -domain polyhedra -refine -resilience  UAutomizer         0  [0.375]   \n",
       "0  -domain polyhedra -refine -resilience  UAutomizer         0  [0.295]   \n",
       "0  -domain polyhedra -refine -resilience  UAutomizer         0  [0.288]   \n",
       "0  -domain polyhedra -refine -resilience  UAutomizer         0  [0.327]   \n",
       "0  -domain polyhedra -refine -resilience  UAutomizer         0  [0.318]   \n",
       "0  -domain polyhedra -refine -resilience  UAutomizer         0  [0.412]   \n",
       "0  -domain polyhedra -refine -resilience  UAutomizer         0  [0.383]   \n",
       "0  -domain polyhedra -refine -resilience  UAutomizer         0  [0.419]   \n",
       "0  -domain polyhedra -refine -resilience  UAutomizer         0  [0.263]   \n",
       "0  -domain polyhedra -refine -resilience  UAutomizer         0  [0.248]   \n",
       "0  -domain polyhedra -refine -resilience  UAutomizer         0  [0.305]   \n",
       "0  -domain polyhedra -refine -resilience  UAutomizer         0  [0.228]   \n",
       "\n",
       "     time2  \n",
       "0  [4.354]  \n",
       "0   [5.01]  \n",
       "0  [5.009]  \n",
       "0  [5.009]  \n",
       "0   [5.01]  \n",
       "0   [5.01]  \n",
       "0  [5.012]  \n",
       "0  [5.013]  \n",
       "0  [5.011]  \n",
       "0  [4.936]  \n",
       "0  [5.012]  \n",
       "0  [4.517]  \n",
       "0  [5.001]  "
      ]
     },
     "execution_count": 52,
     "metadata": {},
     "output_type": "execute_result"
    },
    {
     "data": {
      "image/png": "[encoded data removed]",
      "text/plain": [
       "<Figure size 720x720 with 4 Axes>"
      ]
     },
     "metadata": {
      "needs_background": "light"
     },
     "output_type": "display_data"
    }
   ],
   "source": [
    "def cmp_dataframe_wf(opt1,opt2):\n",
    "    files = list(dict.fromkeys(df['filename']))\n",
    "    # je veux comparer les options: j'ai chaque pair d'options, je réccup la valeur pour l'une et pour l'autre et je compare.\n",
    "    #  ATTENTION BUG AVEC EMPTY LIST DANS QUERY1 2\n",
    "    cmp=pd.DataFrame(columns=['filename','option1','option2','precision','time1','time2'])\n",
    "    grp=tmpu.groupby(['options','filename']).max(\"time\")\n",
    "    for fname in files:\n",
    "        q=f\"filename=='{fname}'\"\n",
    "        grpquery= grp.query(q)\n",
    "        q1 = f\"options=='{opt1}'\"\n",
    "        q2 = f\"options=='{opt2}'\"             \n",
    "        time1 = grpquery.query(q1)[\"time\"].values\n",
    "        time2 = grpquery.query(q2)[\"time\"].values\n",
    "        if( len(grpquery.query(q1)[\"result\"].values) == 0 or len(grpquery.query(q2)[\"result\"].values) == 0):\n",
    "            break\n",
    "        if (grpquery.query(q1)[\"result\"].values[0] > grpquery.query(q2)[\"result\"].values[0]):    \n",
    "            tmp=pd.DataFrame([[fname,opt1,opt2,0,time1,time2]], columns=['filename','option1','option2','precision','time1','time2'])\n",
    "            cmp = pd.concat([cmp,tmp])\n",
    "        elif (grpquery.query(q1)[\"result\"].values[0] == grpquery.query(q2)[\"result\"].values[0]):    \n",
    "            tmp =pd.DataFrame([[fname,opt1,opt2,1,time1,time2]], columns=['filename','option1','option2','precision','time1','time2'])\n",
    "            cmp = pd.concat([cmp,tmp])\n",
    "        else:\n",
    "            tmp =pd.DataFrame([[fname,opt1,opt2,2,time2,time2]], columns=['filename','option1','option2','precision','time1','time2'])\n",
    "            cmp = pd.concat([cmp,tmp])\n",
    "\n",
    "    return cmp\n",
    "\n",
    "fig,axs = plt.subplots(2,2,sharey=True,figsize=(10,10))\n",
    "fig.subplots_adjust(wspace=0.5,hspace=0.5)\n",
    "def print_plot_wf(plt,cmp):\n",
    "    # Plot\n",
    "    L=len(cmp[\"filename\"])\n",
    "    #plt.fig(figsize=(10,10))\n",
    "    # Plot points for category A\n",
    "    x_min = 0.005\n",
    "    x_max = 6\n",
    "    y_min = 0.005\n",
    "    y_max = 6\n",
    "    \n",
    "    epsilon = 0.0001\n",
    "    \n",
    "    s = 100\n",
    "    category_a =  cmp.query(\"precision == 2\")    \n",
    "    x=category_a['time1'].apply(lambda x: x if x < x_max else x_max-epsilon)\n",
    "    y=category_a['time2'].apply(lambda x: x if x < y_max else y_max-epsilon)\n",
    "    plt.scatter(x, y,color='red', label='opt2 more precise than opt1', marker='2',zorder=10,s=s)\n",
    "\n",
    "    \n",
    "    category_c =  cmp.query(\"precision == 1\")\n",
    "    x=category_c['time1'].apply(lambda x: x if x < x_max else x_max-epsilon)\n",
    "    y=category_c['time2'].apply(lambda x: x if x < y_max else y_max-epsilon)\n",
    "    plt.scatter(x, y,color='green', label='opt1=opt2', marker='o',zorder=10,s=s)\n",
    "\n",
    "    \n",
    "    category_c =  cmp.query(\"precision == 0\")\n",
    "    x=category_c['time1'].apply(lambda x: x if x < x_max else x_max-epsilon)\n",
    "    y=category_c['time2'].apply(lambda x: x if x < y_max else y_max-epsilon)\n",
    "    plt.scatter(x, y,color='blue', label='opt1 is more precise than opt2', marker='o',zorder=10,s=s)\n",
    "    # Plot points for category B\n",
    "    \n",
    "    \n",
    "    category_b =  cmp.query(\"precision == 0\")\n",
    "    x=category_b['time1'].apply(lambda x: x if x < x_max else x_max-epsilon)\n",
    "    y=category_b['time2'].apply(lambda x: x if x < y_max else y_max-epsilon)\n",
    "    plt.scatter(x, y, color='red', label='opt1 more precise than opt2 ', marker='2',zorder=10,s=s)\n",
    "    \n",
    "    \n",
    "    plt.set_yscale('log')\n",
    "    plt.set_xscale('log')\n",
    "    \n",
    "    plt.set_xlim(x_min, x_max)\n",
    "    plt.set_ylim(y_min, y_max)\n",
    "    # Labels and legend\n",
    "    \n",
    "    \n",
    "    #plt.legend()\n",
    "    plt.grid(True)\n",
    "    yx = np.linspace(0,6,100)  # Generates 100 points between 0 and 10\n",
    "    # Show the plot\n",
    "    \n",
    "    l = plt.plot(yx,yx,color='gray')\n",
    "\n",
    "print_plot_wf(axs[0][0],cmp_dataframe_wf(\"-domain polyhedra -refine -resilience\",  \"UAutomizer\"))\n",
    "axs[0][0].title.set_text('(a)')\n",
    "axs[0][0].set_xlabel('''x:LoopResilience-Polyhedra-Delay2''',fontsize=12)\n",
    "axs[0][0].set_ylabel(\"y:LoopResilience-Boxes-Delay2\",fontsize=12)\n",
    "cmp_dataframe_wf(\"-domain polyhedra -refine -resilience\",  \"UAutomizer\")"
   ]
  },
  {
   "cell_type": "code",
   "execution_count": null,
   "id": "33c2b650-1ee3-4395-a19d-db09fd3becfb",
   "metadata": {},
   "outputs": [],
   "source": []
  },
  {
   "cell_type": "code",
   "execution_count": null,
   "id": "34b4f06b-4866-4117-82fb-7a3e7d898ea2",
   "metadata": {},
   "outputs": [],
   "source": []
  }
 ],
 "metadata": {
  "kernelspec": {
   "display_name": "Python 3 (ipykernel)",
   "language": "python",
   "name": "python3"
  },
  "language_info": {
   "codemirror_mode": {
    "name": "ipython",
    "version": 3
   },
   "file_extension": ".py",
   "mimetype": "text/x-python",
   "name": "python",
   "nbconvert_exporter": "python",
   "pygments_lexer": "ipython3",
   "version": "3.10.12"
  }
 },
 "nbformat": 4,
 "nbformat_minor": 5
}
